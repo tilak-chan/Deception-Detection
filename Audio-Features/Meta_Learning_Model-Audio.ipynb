{
 "cells": [
  {
   "cell_type": "markdown",
   "metadata": {},
   "source": [
    "## Siamese Network on Audio Data\n",
    "Meta-learning model is used to compensate for lack of data\n",
    "### Import all necessary packages"
   ]
  },
  {
   "cell_type": "code",
   "execution_count": 1,
   "metadata": {},
   "outputs": [],
   "source": [
    "import sys\n",
    "#sys.path.append('/home/adrikamukherjee/venv/lib/python3.6/site-packages')"
   ]
  },
  {
   "cell_type": "code",
   "execution_count": 2,
   "metadata": {},
   "outputs": [],
   "source": [
    "import glob\n",
    "import IPython\n",
    "from random import randint\n",
    "\n",
    "#data processing\n",
    "import librosa\n",
    "import numpy as np\n",
    "\n",
    "#modelling\n",
    "from sklearn.model_selection import train_test_split\n",
    "\n",
    "from keras import backend as K\n",
    "from keras.layers import Activation\n",
    "from keras.layers import Input, Lambda, Dense, Dropout, Flatten\n",
    "from keras.models import Model\n",
    "from keras.optimizers import RMSprop\n",
    "import os"
   ]
  },
  {
   "cell_type": "markdown",
   "metadata": {},
   "source": [
    "### Librosa is used to extract mfcc features from Audio Files\n",
    "### Calculate max Shape(audio file having number of frames) from the audio files"
   ]
  },
  {
   "cell_type": "code",
   "execution_count": 8,
   "metadata": {},
   "outputs": [
    {
     "name": "stdout",
     "output_type": "stream",
     "text": [
      "1817\n"
     ]
    }
   ],
   "source": [
    "list_dir=[\"C:/Users/Tilak Chan/OneDrive/Desktop/Tilak/BagOfLies/wavfiles\"]\n",
    "max=0\n",
    "for dir in list_dir:\n",
    "    for file in glob.glob(os.path.join(dir, '*.wav')):\n",
    "        audio, sr = librosa.load(file)\n",
    "        shape=0\n",
    "        #extract the audio embeddings using MFCC\n",
    "        mfcc = librosa.feature.mfcc(y=audio, sr=sr) \n",
    "        no= int(mfcc.shape[1])\n",
    "        if(no > max):\n",
    "            max=no\n",
    "\n",
    "print(max)        "
   ]
  },
  {
   "cell_type": "markdown",
   "metadata": {},
   "source": [
    "### \"audio2vector\" function is used to extract mfcc features and pad Audio files with max pad length obtained in previous step"
   ]
  },
  {
   "cell_type": "code",
   "execution_count": 19,
   "metadata": {},
   "outputs": [],
   "source": [
    "def audio2vector(file_path, max_pad_len=3508):\n",
    "    \n",
    "    #read the audio file\n",
    "    audio, sr = librosa.load(file_path, mono=True)\n",
    "    \n",
    "    #extract the audio embeddings using MFCC\n",
    "    mfcc = librosa.feature.mfcc(y=audio, sr=sr) \n",
    "    shape=mfcc.shape[1]\n",
    "    #as the audio embeddings length varies for different audio, we keep the maximum length as 400\n",
    "    #pad them with zeros\n",
    "    pad_width = max_pad_len - mfcc.shape[1]\n",
    "    mfcc = np.pad(mfcc, pad_width=((0, 0), (0, pad_width)), mode='constant')\n",
    "    return mfcc"
   ]
  },
  {
   "cell_type": "markdown",
   "metadata": {},
   "source": [
    "### \"get_training_data\" function is used to generate training data such that Two deceptive audio vectors are labeled as 1; one deceptive and one truthful vector are labeled as 0."
   ]
  },
  {
   "cell_type": "code",
   "execution_count": 20,
   "metadata": {},
   "outputs": [],
   "source": [
    "def get_training_data():\n",
    "    \n",
    "    pairs = []\n",
    "    labels = []\n",
    "    \n",
    "    Deceptive = glob.glob('C:/Users/Tilak Chan/OneDrive/Desktop/Tilak/BagOfLies/Audio_features/Deceptive/*.wav')\n",
    "    Truthful = glob.glob('C:/Users/Tilak Chan/OneDrive/Desktop/Tilak/BagOfLies/Audio_features/Truthful/*.wav')\n",
    "    \n",
    "    \n",
    "    #np.random.shuffle(Sub_Deceptive).astype(np.int64)\n",
    "    #np.random.shuffle(Truthful).astype(np.int64)\n",
    "    \n",
    "    for i in range(len(Truthful)):\n",
    "        #imposite pair\n",
    "        if (i % 2) == 0:\n",
    "            pairs.append([audio2vector(Deceptive[randint(0,3)]),audio2vector(Truthful[i])])\n",
    "            labels.append(0)\n",
    "            \n",
    "        #genuine pair\n",
    "        else:\n",
    "            pairs.append([audio2vector(Deceptive[randint(0,3)]),audio2vector(Truthful[i])])\n",
    "            labels.append(1)\n",
    "            \n",
    "            \n",
    "    return np.array(pairs), np.array(labels)"
   ]
  },
  {
   "cell_type": "markdown",
   "metadata": {},
   "source": [
    "### Calculate data and Ground truths and store in X and Y"
   ]
  },
  {
   "cell_type": "code",
   "execution_count": 21,
   "metadata": {},
   "outputs": [],
   "source": [
    "X, Y = get_training_data()"
   ]
  },
  {
   "cell_type": "code",
   "execution_count": 23,
   "metadata": {},
   "outputs": [
    {
     "name": "stdout",
     "output_type": "stream",
     "text": [
      "[[[[-7.3617212e+02 -7.3617212e+02 -7.3617212e+02 ...  0.0000000e+00\n",
      "     0.0000000e+00  0.0000000e+00]\n",
      "   [ 0.0000000e+00  0.0000000e+00  0.0000000e+00 ...  0.0000000e+00\n",
      "     0.0000000e+00  0.0000000e+00]\n",
      "   [ 0.0000000e+00  0.0000000e+00  0.0000000e+00 ...  0.0000000e+00\n",
      "     0.0000000e+00  0.0000000e+00]\n",
      "   ...\n",
      "   [ 0.0000000e+00  0.0000000e+00  0.0000000e+00 ...  0.0000000e+00\n",
      "     0.0000000e+00  0.0000000e+00]\n",
      "   [ 0.0000000e+00  0.0000000e+00  0.0000000e+00 ...  0.0000000e+00\n",
      "     0.0000000e+00  0.0000000e+00]\n",
      "   [ 0.0000000e+00  0.0000000e+00  0.0000000e+00 ...  0.0000000e+00\n",
      "     0.0000000e+00  0.0000000e+00]]\n",
      "\n",
      "  [[-7.5600391e+02 -7.5600391e+02 -7.5600391e+02 ...  0.0000000e+00\n",
      "     0.0000000e+00  0.0000000e+00]\n",
      "   [ 0.0000000e+00  0.0000000e+00  0.0000000e+00 ...  0.0000000e+00\n",
      "     0.0000000e+00  0.0000000e+00]\n",
      "   [ 0.0000000e+00  0.0000000e+00  0.0000000e+00 ...  0.0000000e+00\n",
      "     0.0000000e+00  0.0000000e+00]\n",
      "   ...\n",
      "   [ 0.0000000e+00  0.0000000e+00  0.0000000e+00 ...  0.0000000e+00\n",
      "     0.0000000e+00  0.0000000e+00]\n",
      "   [ 0.0000000e+00  0.0000000e+00  0.0000000e+00 ...  0.0000000e+00\n",
      "     0.0000000e+00  0.0000000e+00]\n",
      "   [ 0.0000000e+00  0.0000000e+00  0.0000000e+00 ...  0.0000000e+00\n",
      "     0.0000000e+00  0.0000000e+00]]]\n",
      "\n",
      "\n",
      " [[[-7.3617212e+02 -7.3617212e+02 -7.3617212e+02 ...  0.0000000e+00\n",
      "     0.0000000e+00  0.0000000e+00]\n",
      "   [ 0.0000000e+00  0.0000000e+00  0.0000000e+00 ...  0.0000000e+00\n",
      "     0.0000000e+00  0.0000000e+00]\n",
      "   [ 0.0000000e+00  0.0000000e+00  0.0000000e+00 ...  0.0000000e+00\n",
      "     0.0000000e+00  0.0000000e+00]\n",
      "   ...\n",
      "   [ 0.0000000e+00  0.0000000e+00  0.0000000e+00 ...  0.0000000e+00\n",
      "     0.0000000e+00  0.0000000e+00]\n",
      "   [ 0.0000000e+00  0.0000000e+00  0.0000000e+00 ...  0.0000000e+00\n",
      "     0.0000000e+00  0.0000000e+00]\n",
      "   [ 0.0000000e+00  0.0000000e+00  0.0000000e+00 ...  0.0000000e+00\n",
      "     0.0000000e+00  0.0000000e+00]]\n",
      "\n",
      "  [[-6.6287433e+02 -6.6287433e+02 -6.6287433e+02 ...  0.0000000e+00\n",
      "     0.0000000e+00  0.0000000e+00]\n",
      "   [ 0.0000000e+00  0.0000000e+00  0.0000000e+00 ...  0.0000000e+00\n",
      "     0.0000000e+00  0.0000000e+00]\n",
      "   [ 0.0000000e+00  0.0000000e+00  0.0000000e+00 ...  0.0000000e+00\n",
      "     0.0000000e+00  0.0000000e+00]\n",
      "   ...\n",
      "   [ 0.0000000e+00  0.0000000e+00  0.0000000e+00 ...  0.0000000e+00\n",
      "     0.0000000e+00  0.0000000e+00]\n",
      "   [ 0.0000000e+00  0.0000000e+00  0.0000000e+00 ...  0.0000000e+00\n",
      "     0.0000000e+00  0.0000000e+00]\n",
      "   [ 0.0000000e+00  0.0000000e+00  0.0000000e+00 ...  0.0000000e+00\n",
      "     0.0000000e+00  0.0000000e+00]]]\n",
      "\n",
      "\n",
      " [[[-7.0423950e+02 -7.0423950e+02 -7.0423950e+02 ...  0.0000000e+00\n",
      "     0.0000000e+00  0.0000000e+00]\n",
      "   [ 0.0000000e+00  0.0000000e+00  0.0000000e+00 ...  0.0000000e+00\n",
      "     0.0000000e+00  0.0000000e+00]\n",
      "   [ 0.0000000e+00  0.0000000e+00  0.0000000e+00 ...  0.0000000e+00\n",
      "     0.0000000e+00  0.0000000e+00]\n",
      "   ...\n",
      "   [ 0.0000000e+00  0.0000000e+00  0.0000000e+00 ...  0.0000000e+00\n",
      "     0.0000000e+00  0.0000000e+00]\n",
      "   [ 0.0000000e+00  0.0000000e+00  0.0000000e+00 ...  0.0000000e+00\n",
      "     0.0000000e+00  0.0000000e+00]\n",
      "   [ 0.0000000e+00  0.0000000e+00  0.0000000e+00 ...  0.0000000e+00\n",
      "     0.0000000e+00  0.0000000e+00]]\n",
      "\n",
      "  [[-7.5932373e+02 -5.8615857e+02 -4.5295651e+02 ...  0.0000000e+00\n",
      "     0.0000000e+00  0.0000000e+00]\n",
      "   [ 0.0000000e+00  1.3788840e+02  1.5214136e+02 ...  0.0000000e+00\n",
      "     0.0000000e+00  0.0000000e+00]\n",
      "   [ 0.0000000e+00  2.0337341e+01  1.2945879e+01 ...  0.0000000e+00\n",
      "     0.0000000e+00  0.0000000e+00]\n",
      "   ...\n",
      "   [ 0.0000000e+00 -8.5986843e+00 -4.0011635e+00 ...  0.0000000e+00\n",
      "     0.0000000e+00  0.0000000e+00]\n",
      "   [ 0.0000000e+00 -6.9765148e+00 -6.7872400e+00 ...  0.0000000e+00\n",
      "     0.0000000e+00  0.0000000e+00]\n",
      "   [ 0.0000000e+00 -1.4590958e-01 -1.9415042e+00 ...  0.0000000e+00\n",
      "     0.0000000e+00  0.0000000e+00]]]\n",
      "\n",
      "\n",
      " ...\n",
      "\n",
      "\n",
      " [[[-5.4103528e+02 -5.4103528e+02 -5.4103528e+02 ...  0.0000000e+00\n",
      "     0.0000000e+00  0.0000000e+00]\n",
      "   [ 0.0000000e+00  0.0000000e+00  0.0000000e+00 ...  0.0000000e+00\n",
      "     0.0000000e+00  0.0000000e+00]\n",
      "   [ 0.0000000e+00  0.0000000e+00  0.0000000e+00 ...  0.0000000e+00\n",
      "     0.0000000e+00  0.0000000e+00]\n",
      "   ...\n",
      "   [ 0.0000000e+00  0.0000000e+00  0.0000000e+00 ...  0.0000000e+00\n",
      "     0.0000000e+00  0.0000000e+00]\n",
      "   [ 0.0000000e+00  0.0000000e+00  0.0000000e+00 ...  0.0000000e+00\n",
      "     0.0000000e+00  0.0000000e+00]\n",
      "   [ 0.0000000e+00  0.0000000e+00  0.0000000e+00 ...  0.0000000e+00\n",
      "     0.0000000e+00  0.0000000e+00]]\n",
      "\n",
      "  [[-7.9256018e+02 -5.9406836e+02 -4.5711349e+02 ...  0.0000000e+00\n",
      "     0.0000000e+00  0.0000000e+00]\n",
      "   [ 0.0000000e+00  1.3220004e+02  1.4890692e+02 ...  0.0000000e+00\n",
      "     0.0000000e+00  0.0000000e+00]\n",
      "   [ 0.0000000e+00  2.4122425e+01  2.1817932e+01 ...  0.0000000e+00\n",
      "     0.0000000e+00  0.0000000e+00]\n",
      "   ...\n",
      "   [ 0.0000000e+00  3.2520220e+00  3.2718740e+00 ...  0.0000000e+00\n",
      "     0.0000000e+00  0.0000000e+00]\n",
      "   [ 0.0000000e+00 -7.2371025e+00 -8.6312094e+00 ...  0.0000000e+00\n",
      "     0.0000000e+00  0.0000000e+00]\n",
      "   [ 0.0000000e+00  1.2155719e+00  1.0759484e+00 ...  0.0000000e+00\n",
      "     0.0000000e+00  0.0000000e+00]]]\n",
      "\n",
      "\n",
      " [[[-7.3617212e+02 -7.3617212e+02 -7.3617212e+02 ...  0.0000000e+00\n",
      "     0.0000000e+00  0.0000000e+00]\n",
      "   [ 0.0000000e+00  0.0000000e+00  0.0000000e+00 ...  0.0000000e+00\n",
      "     0.0000000e+00  0.0000000e+00]\n",
      "   [ 0.0000000e+00  0.0000000e+00  0.0000000e+00 ...  0.0000000e+00\n",
      "     0.0000000e+00  0.0000000e+00]\n",
      "   ...\n",
      "   [ 0.0000000e+00  0.0000000e+00  0.0000000e+00 ...  0.0000000e+00\n",
      "     0.0000000e+00  0.0000000e+00]\n",
      "   [ 0.0000000e+00  0.0000000e+00  0.0000000e+00 ...  0.0000000e+00\n",
      "     0.0000000e+00  0.0000000e+00]\n",
      "   [ 0.0000000e+00  0.0000000e+00  0.0000000e+00 ...  0.0000000e+00\n",
      "     0.0000000e+00  0.0000000e+00]]\n",
      "\n",
      "  [[-8.3579993e+02 -5.1673840e+02 -4.1570178e+02 ...  0.0000000e+00\n",
      "     0.0000000e+00  0.0000000e+00]\n",
      "   [ 0.0000000e+00  1.1131128e+02  1.2659767e+02 ...  0.0000000e+00\n",
      "     0.0000000e+00  0.0000000e+00]\n",
      "   [ 0.0000000e+00  1.0384998e+01  1.3049586e+01 ...  0.0000000e+00\n",
      "     0.0000000e+00  0.0000000e+00]\n",
      "   ...\n",
      "   [ 0.0000000e+00  1.8728433e+00  5.3131313e+00 ...  0.0000000e+00\n",
      "     0.0000000e+00  0.0000000e+00]\n",
      "   [ 0.0000000e+00 -5.5258360e+00 -3.2693028e+00 ...  0.0000000e+00\n",
      "     0.0000000e+00  0.0000000e+00]\n",
      "   [ 0.0000000e+00 -4.6249733e+00 -4.2190185e+00 ...  0.0000000e+00\n",
      "     0.0000000e+00  0.0000000e+00]]]\n",
      "\n",
      "\n",
      " [[[-5.4103528e+02 -5.4103528e+02 -5.4103528e+02 ...  0.0000000e+00\n",
      "     0.0000000e+00  0.0000000e+00]\n",
      "   [ 0.0000000e+00  0.0000000e+00  0.0000000e+00 ...  0.0000000e+00\n",
      "     0.0000000e+00  0.0000000e+00]\n",
      "   [ 0.0000000e+00  0.0000000e+00  0.0000000e+00 ...  0.0000000e+00\n",
      "     0.0000000e+00  0.0000000e+00]\n",
      "   ...\n",
      "   [ 0.0000000e+00  0.0000000e+00  0.0000000e+00 ...  0.0000000e+00\n",
      "     0.0000000e+00  0.0000000e+00]\n",
      "   [ 0.0000000e+00  0.0000000e+00  0.0000000e+00 ...  0.0000000e+00\n",
      "     0.0000000e+00  0.0000000e+00]\n",
      "   [ 0.0000000e+00  0.0000000e+00  0.0000000e+00 ...  0.0000000e+00\n",
      "     0.0000000e+00  0.0000000e+00]]\n",
      "\n",
      "  [[-8.4590997e+02 -5.6027161e+02 -4.4747620e+02 ...  0.0000000e+00\n",
      "     0.0000000e+00  0.0000000e+00]\n",
      "   [ 0.0000000e+00  1.2610199e+02  1.4325427e+02 ...  0.0000000e+00\n",
      "     0.0000000e+00  0.0000000e+00]\n",
      "   [ 0.0000000e+00  2.0489647e+01  1.7394545e+01 ...  0.0000000e+00\n",
      "     0.0000000e+00  0.0000000e+00]\n",
      "   ...\n",
      "   [ 0.0000000e+00  8.1980114e+00  2.4811232e+00 ...  0.0000000e+00\n",
      "     0.0000000e+00  0.0000000e+00]\n",
      "   [ 0.0000000e+00 -2.0585103e+00 -7.1202102e+00 ...  0.0000000e+00\n",
      "     0.0000000e+00  0.0000000e+00]\n",
      "   [ 0.0000000e+00  6.8775744e+00  3.4259276e+00 ...  0.0000000e+00\n",
      "     0.0000000e+00  0.0000000e+00]]]]\n",
      "Break\n",
      "[0 1 0 1 0 1 0 1 0 1 0 1 0 1 0 1 0 1 0 1 0 1 0 1 0 1 0 1 0 1 0 1 0 1 0 1 0\n",
      " 1 0 1 0 1 0 1 0 1 0 1 0 1 0 1 0 1 0 1 0 1 0 1 0 1 0 1 0 1 0 1 0 1 0 1 0 1\n",
      " 0 1 0 1 0 1 0 1 0 1 0 1 0 1 0 1 0 1 0 1 0 1 0 1 0 1 0 1 0 1 0 1 0 1 0 1 0\n",
      " 1 0 1 0 1 0 1 0 1 0 1 0 1 0 1 0 1 0 1 0 1 0 1 0 1 0 1 0 1 0 1 0 1 0 1 0 1\n",
      " 0 1 0 1 0 1 0 1 0 1 0 1 0 1 0]\n"
     ]
    }
   ],
   "source": [
    "print(X)\n",
    "print(\"Break\")\n",
    "print(Y)"
   ]
  },
  {
   "cell_type": "markdown",
   "metadata": {},
   "source": [
    "##### Convert Ground truth type to float 32"
   ]
  },
  {
   "cell_type": "code",
   "execution_count": 24,
   "metadata": {},
   "outputs": [],
   "source": [
    "import pandas as pd\n",
    "Y=pd.Series(Y).astype('float32')\n",
    "Y=Y.to_numpy()"
   ]
  },
  {
   "cell_type": "markdown",
   "metadata": {},
   "source": [
    "### Split Train and Test Data"
   ]
  },
  {
   "cell_type": "code",
   "execution_count": 25,
   "metadata": {},
   "outputs": [],
   "source": [
    "X_train, X_test, y_train, y_test = train_test_split(X, Y, test_size=0.2)"
   ]
  },
  {
   "cell_type": "markdown",
   "metadata": {},
   "source": [
    "### Base Model with two simple dense layer for feature extraction is built."
   ]
  },
  {
   "cell_type": "code",
   "execution_count": 26,
   "metadata": {},
   "outputs": [],
   "source": [
    "def build_base_network(input_shape):\n",
    "    input = Input(shape=input_shape)\n",
    "    x = Flatten()(input)\n",
    "    x = Dense(150, activation='relu')(x)\n",
    "    #x = Dropout(0.1)(x)\n",
    "    x = Dense(150, activation='relu')(x)\n",
    "    #x = Dropout(0.1)(x)\n",
    "    return Model(input, x)"
   ]
  },
  {
   "cell_type": "markdown",
   "metadata": {},
   "source": [
    "### Audio pair is fed into the base network, which will return the features."
   ]
  },
  {
   "cell_type": "code",
   "execution_count": 27,
   "metadata": {},
   "outputs": [],
   "source": [
    "input_dim = X_train.shape[2:]\n",
    "\n",
    "audio_a = Input(shape=input_dim)\n",
    "audio_b = Input(shape=input_dim)"
   ]
  },
  {
   "cell_type": "code",
   "execution_count": 28,
   "metadata": {},
   "outputs": [],
   "source": [
    "base_network = build_base_network(input_dim)\n",
    "\n",
    "feat_vecs_a = base_network(audio_a)\n",
    "feat_vecs_b = base_network(audio_b)"
   ]
  },
  {
   "cell_type": "markdown",
   "metadata": {},
   "source": [
    "### 'feat_vecs_a' and 'feat_vecs_b' are the feature vectors of audio pair;these feature vectors is fed into  the energy function to compute a distance between them,  Euclidean distance is used as energy function:"
   ]
  },
  {
   "cell_type": "code",
   "execution_count": 29,
   "metadata": {},
   "outputs": [],
   "source": [
    "def euclidean_distance(vects):\n",
    "    x, y = vects\n",
    "    return K.sqrt(K.sum(K.square(x - y), axis=1, keepdims=True))\n",
    "\n",
    "\n",
    "def eucl_dist_output_shape(shapes):\n",
    "    shape1, shape2 = shapes\n",
    "    return (shape1[0], 1)"
   ]
  },
  {
   "cell_type": "code",
   "execution_count": 30,
   "metadata": {},
   "outputs": [],
   "source": [
    "distance = Lambda(euclidean_distance, output_shape=eucl_dist_output_shape)([feat_vecs_a, feat_vecs_b])"
   ]
  },
  {
   "cell_type": "markdown",
   "metadata": {},
   "source": [
    "### epoch length is set to 15 and  RMS prop is used for optimization."
   ]
  },
  {
   "cell_type": "code",
   "execution_count": 31,
   "metadata": {},
   "outputs": [],
   "source": [
    "epochs = 15\n",
    "rms = RMSprop()"
   ]
  },
  {
   "cell_type": "code",
   "execution_count": 32,
   "metadata": {},
   "outputs": [],
   "source": [
    "model = Model(inputs=[audio_a, audio_b], outputs=distance)"
   ]
  },
  {
   "cell_type": "markdown",
   "metadata": {},
   "source": [
    "### distance based Contrastive loss is defined"
   ]
  },
  {
   "cell_type": "code",
   "execution_count": 33,
   "metadata": {},
   "outputs": [],
   "source": [
    "def contrastive_loss(y_true, y_pred):\n",
    "    margin = 1\n",
    "    return K.mean(y_true * K.square(y_pred) + (1 - y_true) * K.square(K.maximum(margin - y_pred, 0)))"
   ]
  },
  {
   "cell_type": "markdown",
   "metadata": {},
   "source": [
    "### Model is compiled"
   ]
  },
  {
   "cell_type": "code",
   "execution_count": 34,
   "metadata": {},
   "outputs": [],
   "source": [
    "model.compile(loss=contrastive_loss, optimizer=rms)"
   ]
  },
  {
   "cell_type": "markdown",
   "metadata": {},
   "source": [
    "### Train and Test data is seperated\n",
    "\n",
    "\"audio_1\" and \"audio_2\" is used for training the model.\n",
    "\"audio_3\" and \"audio_4\" is used for training the model.\n",
    "The input of final model requires two videos, one from each pair is fed into the model."
   ]
  },
  {
   "cell_type": "code",
   "execution_count": 35,
   "metadata": {},
   "outputs": [],
   "source": [
    "audio_1 = X_train[:, 0]\n",
    "audio_2 = X_train[:, 1]\n",
    "audio_3 = X_test[:, 0]\n",
    "audio_4 = X_test[:, 1]"
   ]
  },
  {
   "cell_type": "code",
   "execution_count": 37,
   "metadata": {},
   "outputs": [
    {
     "name": "stdout",
     "output_type": "stream",
     "text": [
      "Epoch 1/15\n",
      "2/2 - 2s - loss: 34403.2578 - val_loss: 772343.4375 - 2s/epoch - 1s/step\n",
      "Epoch 2/15\n",
      "2/2 - 0s - loss: 723876.3750 - val_loss: 623605.5625 - 392ms/epoch - 196ms/step\n",
      "Epoch 3/15\n",
      "2/2 - 0s - loss: 678520.3125 - val_loss: 185676.2188 - 363ms/epoch - 182ms/step\n",
      "Epoch 4/15\n",
      "2/2 - 0s - loss: 228664.9531 - val_loss: 161172.4375 - 355ms/epoch - 178ms/step\n",
      "Epoch 5/15\n",
      "2/2 - 0s - loss: 227579.8125 - val_loss: 45108.1445 - 361ms/epoch - 180ms/step\n",
      "Epoch 6/15\n",
      "2/2 - 0s - loss: 81445.4609 - val_loss: 26646.6133 - 364ms/epoch - 182ms/step\n",
      "Epoch 7/15\n",
      "2/2 - 0s - loss: 56617.2930 - val_loss: 18738.6367 - 361ms/epoch - 181ms/step\n",
      "Epoch 8/15\n",
      "2/2 - 0s - loss: 45005.7930 - val_loss: 78372.1562 - 358ms/epoch - 179ms/step\n",
      "Epoch 9/15\n",
      "2/2 - 0s - loss: 107520.0859 - val_loss: 38813.0977 - 373ms/epoch - 187ms/step\n",
      "Epoch 10/15\n",
      "2/2 - 0s - loss: 47546.2734 - val_loss: 14911.7441 - 356ms/epoch - 178ms/step\n",
      "Epoch 11/15\n",
      "2/2 - 0s - loss: 31630.3691 - val_loss: 25352.8066 - 367ms/epoch - 184ms/step\n",
      "Epoch 12/15\n",
      "2/2 - 0s - loss: 37989.8359 - val_loss: 16453.5449 - 347ms/epoch - 174ms/step\n",
      "Epoch 13/15\n",
      "2/2 - 0s - loss: 26577.2109 - val_loss: 27864.1836 - 340ms/epoch - 170ms/step\n",
      "Epoch 14/15\n",
      "2/2 - 0s - loss: 41623.6758 - val_loss: 41058.4219 - 384ms/epoch - 192ms/step\n",
      "Epoch 15/15\n",
      "2/2 - 0s - loss: 42306.2227 - val_loss: 40296.7773 - 353ms/epoch - 176ms/step\n"
     ]
    }
   ],
   "source": [
    "history=model.fit([audio_1, audio_2], y_train, validation_data=[[audio_3, audio_4], y_test],batch_size=128, verbose=2, epochs=epochs)\n"
   ]
  },
  {
   "cell_type": "markdown",
   "metadata": {},
   "source": [
    "### Plot Meta Model loss"
   ]
  },
  {
   "cell_type": "code",
   "execution_count": 38,
   "metadata": {},
   "outputs": [
    {
     "data": {
      "image/png": "[encoded data removed]",
      "text/plain": [
       "<Figure size 1000x500 with 1 Axes>"
      ]
     },
     "metadata": {},
     "output_type": "display_data"
    }
   ],
   "source": [
    "import matplotlib.pyplot as plt\n",
    "def plot_acc_loss(history):\n",
    "\n",
    "    fig = plt.figure(figsize=(10,5))\n",
    "    plt.plot(history.history['loss'])\n",
    "    plt.plot(history.history['val_loss'])\n",
    "    plt.title('Meta Model Loss')\n",
    "    plt.ylabel('loss')\n",
    "    plt.xlabel('epoch')\n",
    "    plt.legend(['train', 'test'], loc='upper right')\n",
    "    plt.show()\n",
    "\n",
    "\n",
    "plot_acc_loss(history)"
   ]
  },
  {
   "cell_type": "markdown",
   "metadata": {},
   "source": [
    "### Predict on Test Data"
   ]
  },
  {
   "cell_type": "code",
   "execution_count": 39,
   "metadata": {},
   "outputs": [
    {
     "name": "stdout",
     "output_type": "stream",
     "text": [
      "2/2 [==============================] - 0s 10ms/step\n"
     ]
    },
    {
     "data": {
      "text/plain": [
       "array([[234.72032 ],\n",
       "       [168.49829 ],\n",
       "       [ 62.627544],\n",
       "       [355.18173 ],\n",
       "       [220.09258 ],\n",
       "       [509.6862  ],\n",
       "       [204.38425 ],\n",
       "       [196.06566 ],\n",
       "       [260.0767  ],\n",
       "       [236.80281 ],\n",
       "       [750.8384  ],\n",
       "       [313.84772 ],\n",
       "       [126.27959 ],\n",
       "       [ 99.06149 ],\n",
       "       [ 97.271576],\n",
       "       [124.495186],\n",
       "       [161.0155  ],\n",
       "       [773.74677 ],\n",
       "       [ 80.38462 ],\n",
       "       [ 62.398537],\n",
       "       [355.45508 ],\n",
       "       [215.97232 ],\n",
       "       [ 94.91582 ],\n",
       "       [214.58818 ],\n",
       "       [266.87625 ],\n",
       "       [123.03421 ],\n",
       "       [446.64914 ],\n",
       "       [190.54066 ],\n",
       "       [601.01215 ],\n",
       "       [164.8308  ],\n",
       "       [121.17724 ],\n",
       "       [322.83603 ],\n",
       "       [369.4964  ]], dtype=float32)"
      ]
     },
     "execution_count": 39,
     "metadata": {},
     "output_type": "execute_result"
    }
   ],
   "source": [
    "y_pred = model.predict([audio_3, audio_4])\n",
    "y_pred"
   ]
  },
  {
   "cell_type": "markdown",
   "metadata": {},
   "source": [
    "### Display Confusion Matrix"
   ]
  },
  {
   "cell_type": "code",
   "execution_count": 40,
   "metadata": {},
   "outputs": [
    {
     "name": "stdout",
     "output_type": "stream",
     "text": [
      "2/2 [==============================] - 0s 8ms/step\n"
     ]
    },
    {
     "data": {
      "text/plain": [
       "array([[ 1, 19],\n",
       "       [ 1, 12]], dtype=int64)"
      ]
     },
     "execution_count": 40,
     "metadata": {},
     "output_type": "execute_result"
    }
   ],
   "source": [
    "import sklearn\n",
    "from sklearn.preprocessing import label_binarize\n",
    "y_true = label_binarize(y_test, classes = [0, 1]) # y_test --> You get it from train_test_split\n",
    "\n",
    "y_pred = model.predict([audio_3, audio_4])\n",
    "y_pred_det = label_binarize(pd.Series(y_pred[:, 0]).apply(lambda y: 0 if y<80 else 1), classes = [0, 1])\n",
    "\n",
    "conf = sklearn.metrics.confusion_matrix\n",
    "conf = sklearn.metrics.confusion_matrix\n",
    "conf(y_true, y_pred_det)"
   ]
  },
  {
   "cell_type": "markdown",
   "metadata": {},
   "source": [
    "### Calculate Precision and Recall and other Metrics"
   ]
  },
  {
   "cell_type": "code",
   "execution_count": 41,
   "metadata": {},
   "outputs": [
    {
     "name": "stdout",
     "output_type": "stream",
     "text": [
      "Precision in predicting two deceptive videos:  0.3870967741935484\n",
      "Recall in in predicting two deceptive videos:  0.9230769230769231\n"
     ]
    }
   ],
   "source": [
    "conf_res = conf(y_true, y_pred_det)\n",
    "print(\"Precision in predicting two deceptive videos: \", conf_res[1][1]/(conf_res[1][1]+conf_res[0][1]))\n",
    "print(\"Recall in in predicting two deceptive videos: \", conf_res[1][1]/(conf_res[1][1]+conf_res[1][0]))"
   ]
  },
  {
   "cell_type": "code",
   "execution_count": 42,
   "metadata": {},
   "outputs": [
    {
     "name": "stdout",
     "output_type": "stream",
     "text": [
      "Cohens kappa: -0.021672\n",
      "ROC AUC: 0.486538\n",
      "Precision: 0.443548\n",
      "Recall: 0.486538\n",
      "Accuracy: 0.393939\n",
      "fsc: 0.318182\n"
     ]
    }
   ],
   "source": [
    "from sklearn.metrics import f1_score, precision_score, recall_score, confusion_matrix,cohen_kappa_score,roc_auc_score, accuracy_score\n",
    "\n",
    "\n",
    "# Print f1, precision, and recall scores\n",
    "prec = precision_score(y_true, y_pred_det , average=\"macro\")\n",
    "rec = recall_score(y_true, y_pred_det , average=\"macro\")\n",
    "fsc= f1_score(y_true, y_pred_det , average=\"macro\")\n",
    "# kappa\n",
    "kappa = cohen_kappa_score(y_true, y_pred_det)\n",
    "print('Cohens kappa: %f' % kappa)\n",
    "# ROC AUC\n",
    "auc = roc_auc_score(y_true, y_pred_det)\n",
    "print('ROC AUC: %f' % auc)\n",
    "accu = accuracy_score(y_true, y_pred_det)\n",
    "print('Precision: %f' % prec)\n",
    "print('Recall: %f' % rec)\n",
    "print('Accuracy: %f' % accu)\n",
    "print('fsc: %f' % fsc)"
   ]
  },
  {
   "cell_type": "markdown",
   "metadata": {},
   "source": [
    "### Plot ROC Curve"
   ]
  },
  {
   "cell_type": "code",
   "execution_count": 43,
   "metadata": {},
   "outputs": [
    {
     "data": {
      "image/png": "[encoded data removed]",
      "text/plain": [
       "<Figure size 900x600 with 1 Axes>"
      ]
     },
     "metadata": {},
     "output_type": "display_data"
    }
   ],
   "source": [
    "from sklearn.metrics import roc_curve, auc\n",
    "fpr = dict()\n",
    "tpr = dict()\n",
    "roc_auc = dict()\n",
    "i=0\n",
    "fpr[i], tpr[i], _ = roc_curve(y_true[:, i], y_pred_det[:, i])\n",
    "roc_auc[i] = auc(fpr[i], tpr[i])\n",
    "\n",
    "plt.figure(figsize=(9, 6))\n",
    "lw = 2\n",
    "plt.plot(fpr[0], tpr[0], color='darkorange',\n",
    "         lw=lw, label='ROC curve (area = %0.2f)' % roc_auc[0])\n",
    "plt.plot([0, 1], [0, 1], color='navy', lw=lw, linestyle='--')\n",
    "plt.xlim([0.0, 1.0])\n",
    "plt.ylim([0.0, 1.05])\n",
    "plt.xlabel('False Positive Rate')\n",
    "plt.ylabel('True Positive Rate')\n",
    "plt.title('Receiver operating characteristic example')\n",
    "plt.legend(loc=\"lower right\")\n",
    "plt.show()"
   ]
  },
  {
   "cell_type": "code",
   "execution_count": null,
   "metadata": {},
   "outputs": [],
   "source": []
  }
 ],
 "metadata": {
  "kernelspec": {
   "display_name": "Python 3 (ipykernel)",
   "language": "python",
   "name": "python3"
  },
  "language_info": {
   "codemirror_mode": {
    "name": "ipython",
    "version": 3
   },
   "file_extension": ".py",
   "mimetype": "text/x-python",
   "name": "python",
   "nbconvert_exporter": "python",
   "pygments_lexer": "ipython3",
   "version": "3.9.13"
  }
 },
 "nbformat": 4,
 "nbformat_minor": 2
}
