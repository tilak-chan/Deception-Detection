{
 "cells": [
  {
   "cell_type": "code",
   "execution_count": 2,
   "id": "fd3698b9",
   "metadata": {},
   "outputs": [],
   "source": [
    "import os\n",
    "import pandas as pd\n",
    "import shutil\n",
    "\n",
    "# Set the path to the CSV file\n",
    "csv_file_path = 'Annotation_audio_features.csv'\n",
    "\n",
    "# Set the paths to the output folders\n",
    "truthful_folder = 'Truthful'\n",
    "deceptive_folder = 'Deceptive'\n",
    "\n",
    "# Create the output folders if they don't exist\n",
    "if not os.path.exists(truthful_folder):\n",
    "    os.makedirs(truthful_folder)\n",
    "\n",
    "if not os.path.exists(deceptive_folder):\n",
    "    os.makedirs(deceptive_folder)\n",
    "\n",
    "# Read the CSV file into a pandas DataFrame\n",
    "df = pd.read_csv(csv_file_path)\n",
    "\n",
    "# Iterate over the rows of the DataFrame\n",
    "for index, row in df.iterrows():\n",
    "    # Get the path to the .wav file\n",
    "    wav_path = row['Path_for_wav_file']\n",
    "    # Get the label\n",
    "    label = row['label']\n",
    "    \n",
    "    # Construct the output path\n",
    "    output_folder = truthful_folder if label == 'Truthful' else deceptive_folder\n",
    "    output_path = os.path.join(output_folder, os.path.basename(wav_path))\n",
    "    \n",
    "    # Copy the .wav file to the appropriate output folder\n",
    "    shutil.copyfile(wav_path, output_path)\n"
   ]
  },
  {
   "cell_type": "code",
   "execution_count": null,
   "id": "a53ef4af",
   "metadata": {},
   "outputs": [],
   "source": []
  }
 ],
 "metadata": {
  "kernelspec": {
   "display_name": "Python 3 (ipykernel)",
   "language": "python",
   "name": "python3"
  },
  "language_info": {
   "codemirror_mode": {
    "name": "ipython",
    "version": 3
   },
   "file_extension": ".py",
   "mimetype": "text/x-python",
   "name": "python",
   "nbconvert_exporter": "python",
   "pygments_lexer": "ipython3",
   "version": "3.9.13"
  }
 },
 "nbformat": 4,
 "nbformat_minor": 5
}
