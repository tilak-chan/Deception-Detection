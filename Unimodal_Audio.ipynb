{
 "cells": [
  {
   "cell_type": "markdown",
   "metadata": {},
   "source": [
    "## A Deep Learning approach to detect deception using Audio Features"
   ]
  },
  {
   "cell_type": "code",
   "execution_count": 22,
   "metadata": {},
   "outputs": [],
   "source": [
    "import sys\n",
    "#sys.path.append('/home/adrikamukherjee/venv/lib/python3.6/site-packages')"
   ]
  },
  {
   "cell_type": "code",
   "execution_count": 23,
   "metadata": {},
   "outputs": [],
   "source": [
    "import os, sys, glob, csv, numpy as np, pandas as pd, matplotlib.pyplot as plt, tensorflow as tf, IPython.display as ipd, keras\n",
    "from sklearn import model_selection, preprocessing\n",
    "import sklearn\n",
    "from os import walk, path\n",
    "from keras import models, layers, optimizers, preprocessing as KRSpreps, utils as KRSutils\n",
    "#from tslearn import preprocessing as TSpreps, utils as TSutils"
   ]
  },
  {
   "cell_type": "markdown",
   "metadata": {},
   "source": [
    "### \"plot_acc_loss\" function plots the validation and training accuracy && validation and training loss"
   ]
  },
  {
   "cell_type": "code",
   "execution_count": 130,
   "metadata": {},
   "outputs": [],
   "source": [
    "def plot_acc_loss(history):\n",
    "    fig = plt.figure(figsize=(10,5))\n",
    "    plt.subplot(1, 2, 1)\n",
    "    plt.plot(history.history['accuracy'])\n",
    "    plt.plot(history.history['val_accuracy'])\n",
    "    plt.title('model accuracy')\n",
    "    plt.ylabel('accuracy')\n",
    "    plt.xlabel('epoch')\n",
    "    plt.legend(['train', 'validation'], loc='upper left')\n",
    "    \n",
    "    plt.subplot(1, 2, 2)\n",
    "    plt.plot(history.history['loss'])\n",
    "    plt.plot(history.history['val_loss'])\n",
    "    plt.title('model loss')\n",
    "    plt.ylabel('loss')\n",
    "    plt.xlabel('epoch')\n",
    "    plt.legend(['train', 'test'], loc='upper right')\n",
    "    plt.show()"
   ]
  },
  {
   "cell_type": "markdown",
   "metadata": {},
   "source": [
    "### Preparation of data before processing it\n",
    "\n",
    "\"direc\" contains the path of frame wise Audio Features per video extracted using opensmile\n",
    "\n",
    "Remove unnecesary columns\n",
    "\n",
    "Seperate data and labels"
   ]
  },
  {
   "cell_type": "code",
   "execution_count": 25,
   "metadata": {},
   "outputs": [],
   "source": [
    "direc = \"C:/Users/Tilak Chan/OneDrive/Desktop/Tilak/BagOfLies/Audio_features/csv_framewise_audio\""
   ]
  },
  {
   "cell_type": "code",
   "execution_count": 26,
   "metadata": {},
   "outputs": [
    {
     "data": {
      "text/plain": [
       "Index(['Unnamed: 0', 'name', 'pcm_intensity_sma_max', 'pcm_intensity_sma_min',\n",
       "       'pcm_intensity_sma_range', 'pcm_intensity_sma_maxPos',\n",
       "       'pcm_intensity_sma_minPos', 'pcm_intensity_sma_amean',\n",
       "       'pcm_intensity_sma_linregc1', 'pcm_intensity_sma_linregc2',\n",
       "       ...\n",
       "       'F0env_sma_de_skewness', 'F0env_sma_de_kurtosis',\n",
       "       'F0env_sma_de_quartile1', 'F0env_sma_de_quartile2',\n",
       "       'F0env_sma_de_quartile3', 'F0env_sma_de_iqr1-2', 'F0env_sma_de_iqr2-3',\n",
       "       'F0env_sma_de_iqr1-3', 'class', 'label'],\n",
       "      dtype='object', length=992)"
      ]
     },
     "execution_count": 26,
     "metadata": {},
     "output_type": "execute_result"
    }
   ],
   "source": [
    "df = pd.read_csv('C:/Users/Tilak Chan/OneDrive/Desktop/Tilak/BagOfLies/Audio_features/csv_framewise_audio/Audio_BagOfLies_User_0_run_0_video.csv')\n",
    "df.columns"
   ]
  },
  {
   "cell_type": "code",
   "execution_count": 36,
   "metadata": {
    "scrolled": true
   },
   "outputs": [
    {
     "name": "stdout",
     "output_type": "stream",
     "text": [
      "Hi +  0\n",
      "Hi +  1\n",
      "Hi +  2\n",
      "Hi +  3\n",
      "Hi +  4\n",
      "Hi +  5\n",
      "Hi +  6\n",
      "Hi +  7\n",
      "Hi +  8\n",
      "Hi +  9\n",
      "Hi +  10\n",
      "Hi +  11\n",
      "Hi +  12\n",
      "Hi +  13\n",
      "Hi +  14\n",
      "Hi +  15\n",
      "Hi +  16\n",
      "Hi +  17\n",
      "Hi +  18\n",
      "Hi +  19\n",
      "Hi +  20\n",
      "Hi +  21\n",
      "Hi +  22\n",
      "Hi +  23\n",
      "Hi +  24\n",
      "Hi +  25\n",
      "Hi +  26\n",
      "Hi +  27\n",
      "Hi +  28\n",
      "Hi +  29\n",
      "Hi +  30\n",
      "Hi +  31\n",
      "Hi +  32\n",
      "Hi +  33\n",
      "Hi +  34\n",
      "Hi +  35\n",
      "Hi +  36\n",
      "Hi +  37\n",
      "Hi +  38\n",
      "Hi +  39\n",
      "Hi +  40\n",
      "Hi +  41\n",
      "Hi +  42\n",
      "Hi +  43\n",
      "Hi +  44\n",
      "Hi +  45\n",
      "Hi +  46\n",
      "Hi +  47\n",
      "Hi +  48\n",
      "Hi +  49\n",
      "Hi +  50\n",
      "Hi +  51\n",
      "Hi +  52\n",
      "Hi +  53\n",
      "Hi +  54\n",
      "Hi +  55\n",
      "Hi +  56\n",
      "Hi +  57\n",
      "Hi +  58\n",
      "Hi +  59\n",
      "Hi +  60\n",
      "Hi +  61\n",
      "Hi +  62\n",
      "Hi +  63\n",
      "Hi +  64\n",
      "Hi +  65\n",
      "Hi +  66\n",
      "Hi +  67\n",
      "Hi +  68\n",
      "Hi +  69\n",
      "Hi +  70\n",
      "Hi +  71\n",
      "Hi +  72\n",
      "Hi +  73\n",
      "Hi +  74\n",
      "Hi +  75\n",
      "Hi +  76\n",
      "Hi +  77\n",
      "Hi +  78\n",
      "Hi +  79\n",
      "Hi +  80\n",
      "Hi +  81\n",
      "Hi +  82\n",
      "Hi +  83\n",
      "Hi +  84\n",
      "Hi +  85\n",
      "Hi +  86\n",
      "Hi +  87\n",
      "Hi +  88\n",
      "Hi +  89\n",
      "Hi +  90\n",
      "Hi +  91\n",
      "Hi +  92\n",
      "Hi +  93\n",
      "Hi +  94\n",
      "Hi +  95\n",
      "Hi +  96\n",
      "Hi +  97\n",
      "Hi +  98\n",
      "Hi +  99\n",
      "Hi +  100\n",
      "Hi +  101\n",
      "Hi +  102\n",
      "Hi +  103\n",
      "Hi +  104\n",
      "Hi +  105\n",
      "Hi +  106\n",
      "Hi +  107\n",
      "Hi +  108\n",
      "Hi +  109\n",
      "Hi +  110\n",
      "Hi +  111\n",
      "Hi +  112\n",
      "Hi +  113\n",
      "Hi +  114\n",
      "Hi +  115\n",
      "Hi +  116\n",
      "Hi +  117\n",
      "Hi +  118\n",
      "Hi +  119\n",
      "Hi +  120\n",
      "Hi +  121\n",
      "Hi +  122\n",
      "Hi +  123\n",
      "Hi +  124\n",
      "Hi +  125\n",
      "Hi +  126\n",
      "Hi +  127\n",
      "Hi +  128\n",
      "Hi +  129\n",
      "Hi +  130\n",
      "Hi +  131\n",
      "Hi +  132\n",
      "Hi +  133\n",
      "Hi +  134\n",
      "Hi +  135\n",
      "Hi +  136\n",
      "Hi +  137\n",
      "Hi +  138\n",
      "Hi +  139\n",
      "Hi +  140\n",
      "Hi +  141\n",
      "Hi +  142\n",
      "Hi +  143\n",
      "Hi +  144\n",
      "Hi +  145\n",
      "Hi +  146\n",
      "Hi +  147\n",
      "Hi +  148\n",
      "Hi +  149\n",
      "Hi +  150\n",
      "Hi +  151\n",
      "Hi +  152\n",
      "Hi +  153\n",
      "Hi +  154\n",
      "Hi +  155\n",
      "Hi +  156\n",
      "Hi +  157\n",
      "Hi +  158\n",
      "Hi +  159\n",
      "Hi +  160\n",
      "Hi +  161\n",
      "Hi +  162\n",
      "Hi +  163\n",
      "Hi +  164\n",
      "Hi +  165\n",
      "Hi +  166\n",
      "Hi +  167\n",
      "Hi +  168\n",
      "Hi +  169\n",
      "Hi +  170\n",
      "Hi +  171\n",
      "Hi +  172\n",
      "Hi +  173\n",
      "Hi +  174\n",
      "Hi +  175\n",
      "Hi +  176\n",
      "Hi +  177\n",
      "Hi +  178\n",
      "Hi +  179\n",
      "Hi +  180\n",
      "Hi +  181\n",
      "Hi +  182\n",
      "Hi +  183\n",
      "Hi +  184\n",
      "Hi +  185\n",
      "Hi +  186\n",
      "Hi +  187\n",
      "Hi +  188\n",
      "Hi +  189\n",
      "Hi +  190\n",
      "Hi +  191\n",
      "Hi +  192\n",
      "Hi +  193\n",
      "Hi +  194\n",
      "Hi +  195\n",
      "Hi +  196\n",
      "Hi +  197\n",
      "Hi +  198\n",
      "Hi +  199\n",
      "Hi +  200\n",
      "Hi +  201\n",
      "Hi +  202\n",
      "Hi +  203\n",
      "Hi +  204\n",
      "Hi +  205\n",
      "Hi +  206\n",
      "Hi +  207\n",
      "Hi +  208\n",
      "Hi +  209\n",
      "Hi +  210\n",
      "Hi +  211\n",
      "Hi +  212\n",
      "Hi +  213\n",
      "Hi +  214\n",
      "Hi +  215\n",
      "Hi +  216\n",
      "Hi +  217\n",
      "Hi +  218\n",
      "Hi +  219\n",
      "Hi +  220\n",
      "Hi +  221\n",
      "Hi +  222\n",
      "Hi +  223\n",
      "Hi +  224\n",
      "Hi +  225\n",
      "Hi +  226\n",
      "Hi +  227\n",
      "Hi +  228\n",
      "Hi +  229\n",
      "Hi +  230\n",
      "Hi +  231\n",
      "Hi +  232\n",
      "Hi +  233\n",
      "Hi +  234\n",
      "Hi +  235\n",
      "Hi +  236\n",
      "Hi +  237\n",
      "Hi +  238\n",
      "Hi +  239\n",
      "Hi +  240\n",
      "Hi +  241\n",
      "Hi +  242\n",
      "Hi +  243\n",
      "Hi +  244\n",
      "Hi +  245\n",
      "Hi +  246\n",
      "Hi +  247\n",
      "Hi +  248\n",
      "Hi +  249\n",
      "Hi +  250\n",
      "Hi +  251\n",
      "Hi +  252\n",
      "Hi +  253\n",
      "Hi +  254\n",
      "Hi +  255\n",
      "Hi +  256\n",
      "Hi +  257\n",
      "Hi +  258\n",
      "Hi +  259\n",
      "Hi +  260\n",
      "Hi +  261\n",
      "Hi +  262\n",
      "Hi +  263\n",
      "Hi +  264\n",
      "Hi +  265\n",
      "Hi +  266\n",
      "Hi +  267\n",
      "Hi +  268\n",
      "Hi +  269\n",
      "Hi +  270\n",
      "Hi +  271\n",
      "Hi +  272\n",
      "Hi +  273\n",
      "Hi +  274\n",
      "Hi +  275\n",
      "Hi +  276\n",
      "Hi +  277\n",
      "Hi +  278\n",
      "Hi +  279\n",
      "Hi +  280\n",
      "Hi +  281\n",
      "Hi +  282\n",
      "Hi +  283\n",
      "Hi +  284\n",
      "Hi +  285\n",
      "Hi +  286\n",
      "Hi +  287\n",
      "Hi +  288\n",
      "Hi +  289\n",
      "Hi +  290\n",
      "Hi +  291\n",
      "Hi +  292\n",
      "Hi +  293\n",
      "Hi +  294\n",
      "Hi +  295\n",
      "Hi +  296\n",
      "Hi +  297\n",
      "Hi +  298\n",
      "Hi +  299\n",
      "Hi +  300\n",
      "Hi +  301\n",
      "Hi +  302\n",
      "Hi +  303\n",
      "Hi +  304\n",
      "Hi +  305\n",
      "Hi +  306\n",
      "Hi +  307\n",
      "Hi +  308\n",
      "Hi +  309\n",
      "Hi +  310\n",
      "Hi +  311\n",
      "Hi +  312\n",
      "Hi +  313\n",
      "Hi +  314\n",
      "Hi +  315\n",
      "Hi +  316\n",
      "Hi +  317\n",
      "Hi +  318\n",
      "Hi +  319\n",
      "Hi +  320\n",
      "Hi +  321\n",
      "Hi +  322\n",
      "Hi +  323\n",
      "Hi +  324\n",
      "Hi +  325\n",
      "Hi +  326\n"
     ]
    }
   ],
   "source": [
    "df_list, label_list = [], []\n",
    "i = 0\n",
    "for filename in glob.glob(os.path.join(direc, '*.csv')):\n",
    "            df_individualfile = pd.read_csv(filename)\n",
    "            count = len(df_individualfile.index)\n",
    "            if(count>0):\n",
    "                label = df_individualfile.loc[:, \"label\"].unique()[0]\n",
    "                df_individualfile.drop([\"name\", \"Unnamed: 0\", \"label\",\"class\"], axis = 1, inplace = True)\n",
    "                df_individualfile.set_index(pd.date_range(start='2000-01-01', end='2020-01-12', \n",
    "                                                          periods = df_individualfile.shape[0]), inplace = True)\n",
    "                df_individualfile.drop_duplicates(inplace = True)\n",
    "                df_list.append(df_individualfile)\n",
    "                label_list.append(label)\n",
    "                i+=1"
   ]
  },
  {
   "cell_type": "code",
   "execution_count": 37,
   "metadata": {},
   "outputs": [
    {
     "data": {
      "text/html": [
       "<div>\n",
       "<style scoped>\n",
       "    .dataframe tbody tr th:only-of-type {\n",
       "        vertical-align: middle;\n",
       "    }\n",
       "\n",
       "    .dataframe tbody tr th {\n",
       "        vertical-align: top;\n",
       "    }\n",
       "\n",
       "    .dataframe thead th {\n",
       "        text-align: right;\n",
       "    }\n",
       "</style>\n",
       "<table border=\"1\" class=\"dataframe\">\n",
       "  <thead>\n",
       "    <tr style=\"text-align: right;\">\n",
       "      <th></th>\n",
       "      <th>pcm_intensity_sma_max</th>\n",
       "      <th>pcm_intensity_sma_min</th>\n",
       "      <th>pcm_intensity_sma_range</th>\n",
       "      <th>pcm_intensity_sma_maxPos</th>\n",
       "      <th>pcm_intensity_sma_minPos</th>\n",
       "      <th>pcm_intensity_sma_amean</th>\n",
       "      <th>pcm_intensity_sma_linregc1</th>\n",
       "      <th>pcm_intensity_sma_linregc2</th>\n",
       "      <th>pcm_intensity_sma_linregerrA</th>\n",
       "      <th>pcm_intensity_sma_linregerrQ</th>\n",
       "      <th>...</th>\n",
       "      <th>F0env_sma_de_linregerrQ</th>\n",
       "      <th>F0env_sma_de_stddev</th>\n",
       "      <th>F0env_sma_de_skewness</th>\n",
       "      <th>F0env_sma_de_kurtosis</th>\n",
       "      <th>F0env_sma_de_quartile1</th>\n",
       "      <th>F0env_sma_de_quartile2</th>\n",
       "      <th>F0env_sma_de_quartile3</th>\n",
       "      <th>F0env_sma_de_iqr1-2</th>\n",
       "      <th>F0env_sma_de_iqr2-3</th>\n",
       "      <th>F0env_sma_de_iqr1-3</th>\n",
       "    </tr>\n",
       "  </thead>\n",
       "  <tbody>\n",
       "    <tr>\n",
       "      <th>2000-01-01</th>\n",
       "      <td>4.143992e-07</td>\n",
       "      <td>0.0</td>\n",
       "      <td>4.143992e-07</td>\n",
       "      <td>1081.0</td>\n",
       "      <td>0.0</td>\n",
       "      <td>4.403980e-08</td>\n",
       "      <td>1.601195e-11</td>\n",
       "      <td>3.315969e-08</td>\n",
       "      <td>3.403962e-08</td>\n",
       "      <td>2.536528e-15</td>\n",
       "      <td>...</td>\n",
       "      <td>48.49173</td>\n",
       "      <td>6.972339</td>\n",
       "      <td>0.99662</td>\n",
       "      <td>9.994416</td>\n",
       "      <td>-2.726407</td>\n",
       "      <td>0.0</td>\n",
       "      <td>3.29979</td>\n",
       "      <td>2.726407</td>\n",
       "      <td>3.29979</td>\n",
       "      <td>6.026197</td>\n",
       "    </tr>\n",
       "  </tbody>\n",
       "</table>\n",
       "<p>1 rows × 988 columns</p>\n",
       "</div>"
      ],
      "text/plain": [
       "            pcm_intensity_sma_max  pcm_intensity_sma_min  \\\n",
       "2000-01-01           4.143992e-07                    0.0   \n",
       "\n",
       "            pcm_intensity_sma_range  pcm_intensity_sma_maxPos  \\\n",
       "2000-01-01             4.143992e-07                    1081.0   \n",
       "\n",
       "            pcm_intensity_sma_minPos  pcm_intensity_sma_amean  \\\n",
       "2000-01-01                       0.0             4.403980e-08   \n",
       "\n",
       "            pcm_intensity_sma_linregc1  pcm_intensity_sma_linregc2  \\\n",
       "2000-01-01                1.601195e-11                3.315969e-08   \n",
       "\n",
       "            pcm_intensity_sma_linregerrA  pcm_intensity_sma_linregerrQ  ...  \\\n",
       "2000-01-01                  3.403962e-08                  2.536528e-15  ...   \n",
       "\n",
       "            F0env_sma_de_linregerrQ  F0env_sma_de_stddev  \\\n",
       "2000-01-01                 48.49173             6.972339   \n",
       "\n",
       "            F0env_sma_de_skewness  F0env_sma_de_kurtosis  \\\n",
       "2000-01-01                0.99662               9.994416   \n",
       "\n",
       "            F0env_sma_de_quartile1  F0env_sma_de_quartile2  \\\n",
       "2000-01-01               -2.726407                     0.0   \n",
       "\n",
       "            F0env_sma_de_quartile3  F0env_sma_de_iqr1-2  F0env_sma_de_iqr2-3  \\\n",
       "2000-01-01                 3.29979             2.726407              3.29979   \n",
       "\n",
       "            F0env_sma_de_iqr1-3  \n",
       "2000-01-01             6.026197  \n",
       "\n",
       "[1 rows x 988 columns]"
      ]
     },
     "execution_count": 37,
     "metadata": {},
     "output_type": "execute_result"
    }
   ],
   "source": [
    "df_list[320]"
   ]
  },
  {
   "cell_type": "markdown",
   "metadata": {},
   "source": [
    "### Plot distribution of number of frames from each Audio File"
   ]
  },
  {
   "cell_type": "code",
   "execution_count": 38,
   "metadata": {},
   "outputs": [
    {
     "name": "stdout",
     "output_type": "stream",
     "text": [
      "count    327.000000\n",
      "mean       2.981651\n",
      "std       25.299912\n",
      "min        1.000000\n",
      "25%        1.000000\n",
      "50%        1.000000\n",
      "75%        1.000000\n",
      "max      325.000000\n",
      "dtype: float64\n",
      "[1.0, 1.0, 1.0, 1.0, 1.0, 1.0, 1.0, 1.0, 1.0, 1.0, 1.0, 1.0, 1.0, 1.0, 1.0, 1.0, 1.0, 1.0, 1.0]\n"
     ]
    },
    {
     "data": {
      "text/plain": [
       "<AxesSubplot:>"
      ]
     },
     "execution_count": 38,
     "metadata": {},
     "output_type": "execute_result"
    },
    {
     "data": {
      "image/png": "[encoded data removed]",
      "text/plain": [
       "<Figure size 640x480 with 1 Axes>"
      ]
     },
     "metadata": {},
     "output_type": "display_data"
    }
   ],
   "source": [
    "# This is just an analysis of number of rows per audio\n",
    "### Find Min Max Mean number of frames\n",
    "len_sequences = []\n",
    "for one_seq in df_list:\n",
    "    len_sequences.append(len(one_seq))\n",
    "len_sequences = pd.Series(len_sequences)\n",
    "print(len_sequences.describe())\n",
    "print([val for val in [len_sequences.quantile(q = qtl) for qtl in np.arange(0.05, 1, 0.05)]])\n",
    "len_sequences.hist(bins = 100)"
   ]
  },
  {
   "cell_type": "markdown",
   "metadata": {},
   "source": [
    "### Upsample Data using linear method"
   ]
  },
  {
   "cell_type": "code",
   "execution_count": 39,
   "metadata": {},
   "outputs": [
    {
     "data": {
      "text/plain": [
       "Timedelta('4 days 13:48:31.069418386')"
      ]
     },
     "execution_count": 39,
     "metadata": {},
     "output_type": "execute_result"
    }
   ],
   "source": [
    "import datetime\n",
    "deltatime = (pd.to_datetime(\"2020-01-12\") - pd.to_datetime(\"2000-01-01\"))/1599\n",
    "deltatime"
   ]
  },
  {
   "cell_type": "code",
   "execution_count": 40,
   "metadata": {},
   "outputs": [],
   "source": [
    "df_list_interpolated = []\n",
    "for df in df_list:\n",
    "    upsampled = df.resample(deltatime)\n",
    "    df_interpolated = upsampled.interpolate(method = 'linear')\n",
    "    #break\n",
    "    df_list_interpolated.append(df_interpolated)"
   ]
  },
  {
   "cell_type": "markdown",
   "metadata": {},
   "source": [
    "### Find those data which could not be sampled to 1600 frames && Remove them"
   ]
  },
  {
   "cell_type": "code",
   "execution_count": 49,
   "metadata": {},
   "outputs": [
    {
     "name": "stdout",
     "output_type": "stream",
     "text": [
      "(1600, 988) 324\n"
     ]
    }
   ],
   "source": [
    "for i, df in zip(np.arange(len(df_list_interpolated)), df_list_interpolated):\n",
    "    if df.shape[0] != 1:\n",
    "        print(df.shape, i)"
   ]
  },
  {
   "cell_type": "code",
   "execution_count": 50,
   "metadata": {},
   "outputs": [
    {
     "data": {
      "text/plain": [
       "'Truthful'"
      ]
     },
     "execution_count": 50,
     "metadata": {},
     "output_type": "execute_result"
    }
   ],
   "source": [
    "df_list_interpolated.pop(324)\n",
    "label_list.pop(324)"
   ]
  },
  {
   "cell_type": "markdown",
   "metadata": {},
   "source": [
    "### Check if all data is consistent and contains 1600 frames"
   ]
  },
  {
   "cell_type": "code",
   "execution_count": 51,
   "metadata": {},
   "outputs": [],
   "source": [
    "for i, df in zip(np.arange(len(df_list_interpolated)), df_list_interpolated):\n",
    "    if df.shape[0] != 1:\n",
    "        print(df.shape, i)"
   ]
  },
  {
   "cell_type": "markdown",
   "metadata": {},
   "source": [
    "### Scale upsampled data"
   ]
  },
  {
   "cell_type": "code",
   "execution_count": 110,
   "metadata": {},
   "outputs": [],
   "source": [
    "df_list_audio_interpolated_scaled=[]\n",
    "\n",
    "for df_individualfile_audio in df_list_interpolated:\n",
    "    X_d = df_individualfile_audio\n",
    "    temp = X_d.values \n",
    "    st_scaler = sklearn.preprocessing.StandardScaler()\n",
    "    temp_scaled = st_scaler.fit_transform(temp)\n",
    "    df_individualfile_audio=pd.DataFrame(temp_scaled)\n",
    "    feature_list=df_individualfile_audio.columns.tolist()\n",
    "    df_list_audio_interpolated_scaled.append(df_individualfile_audio)"
   ]
  },
  {
   "cell_type": "markdown",
   "metadata": {},
   "source": [
    "### Convert data to numpy array && Reshape it"
   ]
  },
  {
   "cell_type": "code",
   "execution_count": 120,
   "metadata": {},
   "outputs": [
    {
     "data": {
      "text/plain": [
       "(324, 988, 1)"
      ]
     },
     "execution_count": 120,
     "metadata": {},
     "output_type": "execute_result"
    }
   ],
   "source": [
    "data_X = np.array(pd.concat(df_list_interpolated, axis = 0)).reshape(-1, 988, 1)\n",
    "data_X.shape"
   ]
  },
  {
   "cell_type": "markdown",
   "metadata": {},
   "source": [
    "### Encode lables"
   ]
  },
  {
   "cell_type": "code",
   "execution_count": 121,
   "metadata": {},
   "outputs": [
    {
     "data": {
      "text/plain": [
       "0      1\n",
       "1      0\n",
       "2      0\n",
       "3      0\n",
       "4      0\n",
       "      ..\n",
       "319    0\n",
       "320    1\n",
       "321    0\n",
       "322    1\n",
       "323    0\n",
       "Length: 324, dtype: int64"
      ]
     },
     "execution_count": 121,
     "metadata": {},
     "output_type": "execute_result"
    }
   ],
   "source": [
    "data_y = pd.Series(label_list).apply(lambda y: 1 if y == \"Truthful\" else 0)\n",
    "data_y"
   ]
  },
  {
   "cell_type": "markdown",
   "metadata": {},
   "source": [
    "### \"get_seq_model\" is the Initial Model"
   ]
  },
  {
   "cell_type": "code",
   "execution_count": 124,
   "metadata": {},
   "outputs": [],
   "source": [
    "def get_seq_model():\n",
    "    model = models.Sequential()\n",
    "    #model.add(layers.LSTM(units=64, recurrent_dropout=0.35, return_sequences=True, input_shape=(2048, 26)))\n",
    "    #model.add(layers.LSTM(units=64, recurrent_dropout=0.35))\n",
    "    model.add(layers.Flatten(input_shape=(988, 1)))\n",
    "    model.add(layers.Dense(64, activation='relu'))\n",
    "    model.add(layers.Dropout(0.1))\n",
    "    model.add(layers.Dense(64, activation='relu'))\n",
    "    model.add(layers.Dropout(0.1))\n",
    "    model.add(layers.Dense(1, activation='sigmoid'))\n",
    "    model.compile(loss='binary_crossentropy', optimizer=optimizers.Adam(lr=0.0001, decay=0.00001), metrics=['accuracy'])\n",
    "    return model"
   ]
  },
  {
   "cell_type": "markdown",
   "metadata": {},
   "source": [
    "### \"get_seq_model1\" is the Final Model Structure, with reduced complexity and l2 Regularization"
   ]
  },
  {
   "cell_type": "code",
   "execution_count": 125,
   "metadata": {},
   "outputs": [],
   "source": [
    "from keras.regularizers import l2\n",
    "from keras.optimizers import SGD,Adam\n",
    "def get_seq_model1():\n",
    "    #opt=keras.optimizers.Adam(lr=0.001, beta_1=0.9, beta_2=0.999, amsgrad=False)\n",
    "    opt=SGD(lr=0.0001, momentum=0.9)\n",
    "    model = models.Sequential()\n",
    "    model.add(layers.LSTM(units=64, recurrent_dropout=0.35, return_sequences=True, input_shape=(988, 1)))\n",
    "    #model.add(layers.LSTM(units=64, recurrent_dropout=0.35))\n",
    "    model.add(layers.Flatten())\n",
    "    model.add(layers.Dense(64, activation='relu',kernel_regularizer=l2(0.001)))\n",
    "    model.add(layers.Dropout(0.2))\n",
    "    model.add(layers.Dense(64, activation='relu',kernel_regularizer=l2(0.001)))\n",
    "    model.add(layers.Dropout(0.2))\n",
    "    model.add(layers.Dense(1, activation='sigmoid'))\n",
    "    model.compile(loss='binary_crossentropy', optimizer=opt, metrics=['accuracy'])\n",
    "    return model"
   ]
  },
  {
   "cell_type": "code",
   "execution_count": 126,
   "metadata": {},
   "outputs": [
    {
     "data": {
      "text/plain": [
       "numpy.ndarray"
      ]
     },
     "execution_count": 126,
     "metadata": {},
     "output_type": "execute_result"
    }
   ],
   "source": [
    "data_y=data_y.to_numpy()\n",
    "type(data_y)"
   ]
  },
  {
   "cell_type": "markdown",
   "metadata": {},
   "source": [
    "### Split Train and Test data"
   ]
  },
  {
   "cell_type": "code",
   "execution_count": 127,
   "metadata": {},
   "outputs": [
    {
     "data": {
      "text/plain": [
       "(291, 988, 1)"
      ]
     },
     "execution_count": 127,
     "metadata": {},
     "output_type": "execute_result"
    }
   ],
   "source": [
    "X_train, X_test, y_train, y_test = model_selection.train_test_split(data_X, data_y, test_size=0.1, random_state=1)\n",
    "X_train.shape\n"
   ]
  },
  {
   "cell_type": "markdown",
   "metadata": {},
   "source": [
    "### Early Stopping used && save the best model"
   ]
  },
  {
   "cell_type": "code",
   "execution_count": 128,
   "metadata": {},
   "outputs": [],
   "source": [
    "import tensorflow"
   ]
  },
  {
   "cell_type": "code",
   "execution_count": 133,
   "metadata": {
    "scrolled": false
   },
   "outputs": [
    {
     "name": "stdout",
     "output_type": "stream",
     "text": [
      "Epoch 1/200\n",
      "5/5 [==============================] - ETA: 0s - loss: 0.8946 - accuracy: 0.4981\n",
      "Epoch 1: val_accuracy improved from -inf to 0.46667, saving model to best_model.h5\n",
      "5/5 [==============================] - 13s 2s/step - loss: 0.8946 - accuracy: 0.4981 - val_loss: 0.8853 - val_accuracy: 0.4667\n",
      "Epoch 2/200\n",
      "5/5 [==============================] - ETA: 0s - loss: 0.8998 - accuracy: 0.4559\n",
      "Epoch 2: val_accuracy did not improve from 0.46667\n",
      "5/5 [==============================] - 9s 2s/step - loss: 0.8998 - accuracy: 0.4559 - val_loss: 0.8881 - val_accuracy: 0.4667\n",
      "Epoch 3/200\n",
      "5/5 [==============================] - ETA: 0s - loss: 0.8849 - accuracy: 0.5134\n",
      "Epoch 3: val_accuracy did not improve from 0.46667\n",
      "5/5 [==============================] - 8s 2s/step - loss: 0.8849 - accuracy: 0.5134 - val_loss: 0.8910 - val_accuracy: 0.4667\n",
      "Epoch 4/200\n",
      "5/5 [==============================] - ETA: 0s - loss: 0.8874 - accuracy: 0.5326\n",
      "Epoch 4: val_accuracy improved from 0.46667 to 0.50000, saving model to best_model.h5\n",
      "5/5 [==============================] - 9s 2s/step - loss: 0.8874 - accuracy: 0.5326 - val_loss: 0.8939 - val_accuracy: 0.5000\n",
      "Epoch 5/200\n",
      "5/5 [==============================] - ETA: 0s - loss: 0.8834 - accuracy: 0.5556\n",
      "Epoch 5: val_accuracy did not improve from 0.50000\n",
      "5/5 [==============================] - 9s 2s/step - loss: 0.8834 - accuracy: 0.5556 - val_loss: 0.8932 - val_accuracy: 0.5000\n",
      "Epoch 6/200\n",
      "5/5 [==============================] - ETA: 0s - loss: 0.8817 - accuracy: 0.5517\n",
      "Epoch 6: val_accuracy did not improve from 0.50000\n",
      "5/5 [==============================] - 8s 2s/step - loss: 0.8817 - accuracy: 0.5517 - val_loss: 0.8896 - val_accuracy: 0.5000\n",
      "Epoch 6: early stopping\n"
     ]
    },
    {
     "data": {
      "image/png": "[encoded data removed]",
      "text/plain": [
       "<Figure size 1000x500 with 2 Axes>"
      ]
     },
     "metadata": {},
     "output_type": "display_data"
    },
    {
     "data": {
      "text/plain": [
       "<Figure size 640x480 with 0 Axes>"
      ]
     },
     "metadata": {},
     "output_type": "display_data"
    }
   ],
   "source": [
    "from keras.callbacks import EarlyStopping\n",
    "from keras.callbacks import ModelCheckpoint\n",
    "\n",
    "es = EarlyStopping(monitor='val_loss', mode='min', verbose=1, patience=5)\n",
    "mc = ModelCheckpoint('best_model.h5', monitor='val_accuracy', mode='max', verbose=1, save_best_only=True)\n",
    "# fit model\n",
    "model = get_seq_model1()\n",
    "history = model.fit(X_train, y_train, batch_size=60, validation_split=0.1, epochs=200, verbose=1, callbacks=[es, mc])\n",
    "plot_acc_loss(history)\n",
    "plt.savefig('Loss_plot_Audio.png')\n",
    "plt.show()"
   ]
  },
  {
   "cell_type": "markdown",
   "metadata": {},
   "source": [
    "### Load the best model and calculate the test loss, test accuracy && Print Confusion Matrix"
   ]
  },
  {
   "cell_type": "code",
   "execution_count": 134,
   "metadata": {},
   "outputs": [
    {
     "name": "stdout",
     "output_type": "stream",
     "text": [
      "2/2 [==============================] - 1s 191ms/step\n",
      "2/2 [==============================] - 1s 185ms/step - loss: 0.8794 - accuracy: 0.6364\n",
      "test loss, test acc: [0.8794148564338684, 0.6363636255264282]\n",
      "[[17  0]\n",
      " [16  0]]\n"
     ]
    }
   ],
   "source": [
    "from keras.models import load_model\n",
    "model = load_model('best_model.h5')\n",
    "y_true = preprocessing.label_binarize(y_test, classes = [0, 1])\n",
    "y_pred = model.predict(X_test)\n",
    "results = model.evaluate(X_test, y_test)\n",
    "print('test loss, test acc:', results)\n",
    "y_pred_det = preprocessing.label_binarize(pd.Series(y_pred[:, 0]).apply(lambda y: 0 if y<0.65 else 1), classes = [0, 1])\n",
    "\n",
    "conf = sklearn.metrics.confusion_matrix\n",
    "print(conf(y_true, y_pred_det))\n",
    "target_names = ['0', '1']"
   ]
  },
  {
   "cell_type": "markdown",
   "metadata": {},
   "source": [
    "### Calculate Metric Scores"
   ]
  },
  {
   "cell_type": "code",
   "execution_count": 135,
   "metadata": {},
   "outputs": [
    {
     "name": "stdout",
     "output_type": "stream",
     "text": [
      "Cohens kappa: 0.287770\n",
      "ROC AUC: 0.647059\n",
      "Precision: 0.785714\n",
      "Recall: 0.647059\n",
      "Fscore: 0.590909\n",
      "Accuracy: 0.636364\n"
     ]
    }
   ],
   "source": [
    "from sklearn.metrics import f1_score, precision_score, recall_score, confusion_matrix,cohen_kappa_score,roc_auc_score, accuracy_score\n",
    "# Print f1, precision, and recall scores\n",
    "y_pred_det = preprocessing.label_binarize(pd.Series(y_pred[:, 0]).apply(lambda y: 0 if y<0.5 else 1), classes = [0, 1])\n",
    "\n",
    "prec = precision_score(y_true, y_pred_det , average=\"macro\")\n",
    "rec = recall_score(y_true, y_pred_det , average=\"macro\")\n",
    "fsc= f1_score(y_true, y_pred_det , average=\"macro\")\n",
    "# kappa\n",
    "kappa = cohen_kappa_score(y_true, y_pred_det)\n",
    "print('Cohens kappa: %f' % kappa)\n",
    "# ROC AUC\n",
    "auc = roc_auc_score(y_true, y_pred_det)\n",
    "print('ROC AUC: %f' % auc)\n",
    "accu = accuracy_score(y_true, y_pred_det)\n",
    "\n",
    "print('Precision: %f' % prec)\n",
    "print('Recall: %f' % rec)\n",
    "print('Fscore: %f' % fsc)\n",
    "print('Accuracy: %f' % accu)"
   ]
  },
  {
   "cell_type": "code",
   "execution_count": 136,
   "metadata": {},
   "outputs": [
    {
     "name": "stdout",
     "output_type": "stream",
     "text": [
      "              precision    recall  f1-score   support\n",
      "\n",
      "           0       1.00      0.29      0.45        17\n",
      "           1       0.57      1.00      0.73        16\n",
      "\n",
      "    accuracy                           0.64        33\n",
      "   macro avg       0.79      0.65      0.59        33\n",
      "weighted avg       0.79      0.64      0.59        33\n",
      "\n",
      "Precision in Detecting Deception:  0.5714285714285714\n",
      "Recall in Detecting Deception:  1.0\n"
     ]
    }
   ],
   "source": [
    "print(sklearn.metrics.classification_report(y_true, y_pred_det,target_names=target_names))\n",
    "conf_res = conf(y_true, y_pred_det)\n",
    "print(\"Precision in Detecting Deception: \", conf_res[1][1]/(conf_res[1][1]+conf_res[0][1]))\n",
    "print(\"Recall in Detecting Deception: \", conf_res[1][1]/(conf_res[1][1]+conf_res[1][0]))"
   ]
  },
  {
   "cell_type": "markdown",
   "metadata": {},
   "source": [
    "### Plot ROC Curve"
   ]
  },
  {
   "cell_type": "code",
   "execution_count": 137,
   "metadata": {},
   "outputs": [
    {
     "data": {
      "image/png": "[encoded data removed]",
      "text/plain": [
       "<Figure size 900x600 with 1 Axes>"
      ]
     },
     "metadata": {},
     "output_type": "display_data"
    }
   ],
   "source": [
    "from sklearn.metrics import roc_curve, auc\n",
    "fpr = dict()\n",
    "tpr = dict()\n",
    "roc_auc = dict()\n",
    "i=0\n",
    "fpr[i], tpr[i], _ = roc_curve(y_true[:, i], y_pred[:, i])\n",
    "roc_auc[i] = auc(fpr[i], tpr[i])\n",
    "\n",
    "plt.figure(figsize=(9, 6))\n",
    "lw = 2\n",
    "plt.plot(fpr[0], tpr[0], color='darkorange',\n",
    "         lw=lw, label='ROC curve (area = %0.2f)' % roc_auc[0])\n",
    "plt.plot([0, 1], [0, 1], color='navy', lw=lw, linestyle='--')\n",
    "plt.xlim([0.0, 1.0])\n",
    "plt.ylim([0.0, 1.05])\n",
    "plt.xlabel('False Positive Rate')\n",
    "plt.ylabel('True Positive Rate')\n",
    "plt.title('Receiver operating characteristic example')\n",
    "plt.legend(loc=\"lower right\")\n",
    "plt.show()"
   ]
  },
  {
   "cell_type": "code",
   "execution_count": null,
   "metadata": {},
   "outputs": [],
   "source": []
  }
 ],
 "metadata": {
  "kernelspec": {
   "display_name": "Python 3 (ipykernel)",
   "language": "python",
   "name": "python3"
  },
  "language_info": {
   "codemirror_mode": {
    "name": "ipython",
    "version": 3
   },
   "file_extension": ".py",
   "mimetype": "text/x-python",
   "name": "python",
   "nbconvert_exporter": "python",
   "pygments_lexer": "ipython3",
   "version": "3.9.13"
  }
 },
 "nbformat": 4,
 "nbformat_minor": 4
}
