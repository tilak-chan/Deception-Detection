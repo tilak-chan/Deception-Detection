{
 "cells": [
  {
   "cell_type": "code",
   "execution_count": 27,
   "id": "9ad41d33",
   "metadata": {},
   "outputs": [],
   "source": [
    "import pandas as pd\n",
    "import numpy as np\n",
    "import matplotlib as plt\n",
    "from sklearn import preprocessing\n",
    "from sklearn.metrics import accuracy_score,precision_score,recall_score,f1_score\n",
    "\n",
    "from keras.callbacks import EarlyStopping\n",
    "from keras.callbacks import ModelCheckpoint\n",
    "\n",
    "from sklearn.metrics import classification_report\n",
    "from sklearn.model_selection import train_test_split\n",
    "import pandas as pd\n",
    "from sklearn.ensemble import RandomForestClassifier\n",
    "from sklearn.model_selection import GridSearchCV,\\\n",
    "RandomizedSearchCV"
   ]
  },
  {
   "cell_type": "code",
   "execution_count": 2,
   "id": "47368ae7",
   "metadata": {},
   "outputs": [],
   "source": [
    "df = pd.read_csv(\"final.csv\",low_memory =False)"
   ]
  },
  {
   "cell_type": "code",
   "execution_count": 3,
   "id": "6ece9386",
   "metadata": {},
   "outputs": [],
   "source": [
    "df = df.drop(['Timestamp', 'X Value', 'Y Value', 'Z Value'] + [col for col in df.columns if 'Quality' in col], axis=1)"
   ]
  },
  {
   "cell_type": "code",
   "execution_count": 4,
   "id": "482bfd93",
   "metadata": {},
   "outputs": [
    {
     "data": {
      "text/plain": [
       "(201000, 14)"
      ]
     },
     "execution_count": 4,
     "metadata": {},
     "output_type": "execute_result"
    }
   ],
   "source": [
    "df.shape"
   ]
  },
  {
   "cell_type": "code",
   "execution_count": 5,
   "id": "e5456bb8",
   "metadata": {},
   "outputs": [],
   "source": [
    "# Step 1: Data Cleaning\n",
    "# Handle missing or corrupted values\n",
    "\n",
    "# Replace missing values with the mean of the column\n",
    "df = df.replace(\"-\", np.nan)\n",
    "df = df.fillna(df.mean(numeric_only=True))\n",
    "\n",
    "df.drop_duplicates(inplace=True)\n",
    "df = df.dropna()"
   ]
  },
  {
   "cell_type": "code",
   "execution_count": 6,
   "id": "c09b71b9",
   "metadata": {},
   "outputs": [],
   "source": [
    "min_max_scaler = preprocessing.MinMaxScaler()\n",
    "df_scaled = min_max_scaler.fit_transform(df)\n",
    "df = pd.DataFrame(df_scaled, columns=df.columns)"
   ]
  },
  {
   "cell_type": "code",
   "execution_count": 7,
   "id": "5a6ded80",
   "metadata": {},
   "outputs": [
    {
     "data": {
      "text/html": [
       "<div>\n",
       "<style scoped>\n",
       "    .dataframe tbody tr th:only-of-type {\n",
       "        vertical-align: middle;\n",
       "    }\n",
       "\n",
       "    .dataframe tbody tr th {\n",
       "        vertical-align: top;\n",
       "    }\n",
       "\n",
       "    .dataframe thead th {\n",
       "        text-align: right;\n",
       "    }\n",
       "</style>\n",
       "<table border=\"1\" class=\"dataframe\">\n",
       "  <thead>\n",
       "    <tr style=\"text-align: right;\">\n",
       "      <th></th>\n",
       "      <th>F3 Value</th>\n",
       "      <th>FC5 Value</th>\n",
       "      <th>F7 Value</th>\n",
       "      <th>T7 Value</th>\n",
       "      <th>P7 Value</th>\n",
       "      <th>O1 Value</th>\n",
       "      <th>O2 Value</th>\n",
       "      <th>P8 Value</th>\n",
       "      <th>T8 Value</th>\n",
       "      <th>F8 Value</th>\n",
       "      <th>AF4 Value</th>\n",
       "      <th>FC6 Value</th>\n",
       "      <th>F4 Value</th>\n",
       "    </tr>\n",
       "  </thead>\n",
       "  <tbody>\n",
       "    <tr>\n",
       "      <th>0</th>\n",
       "      <td>0.159986</td>\n",
       "      <td>0.812773</td>\n",
       "      <td>0.213348</td>\n",
       "      <td>0.665521</td>\n",
       "      <td>0.523002</td>\n",
       "      <td>0.519784</td>\n",
       "      <td>0.580703</td>\n",
       "      <td>0.617303</td>\n",
       "      <td>0.576717</td>\n",
       "      <td>0.533732</td>\n",
       "      <td>0.652132</td>\n",
       "      <td>0.599745</td>\n",
       "      <td>0.616328</td>\n",
       "    </tr>\n",
       "    <tr>\n",
       "      <th>1</th>\n",
       "      <td>0.159761</td>\n",
       "      <td>0.811747</td>\n",
       "      <td>0.215832</td>\n",
       "      <td>0.675258</td>\n",
       "      <td>0.516214</td>\n",
       "      <td>0.518930</td>\n",
       "      <td>0.584828</td>\n",
       "      <td>0.618023</td>\n",
       "      <td>0.579399</td>\n",
       "      <td>0.530740</td>\n",
       "      <td>0.655246</td>\n",
       "      <td>0.600806</td>\n",
       "      <td>0.618421</td>\n",
       "    </tr>\n",
       "    <tr>\n",
       "      <th>2</th>\n",
       "      <td>0.158635</td>\n",
       "      <td>0.810977</td>\n",
       "      <td>0.212993</td>\n",
       "      <td>0.674685</td>\n",
       "      <td>0.523379</td>\n",
       "      <td>0.519214</td>\n",
       "      <td>0.583393</td>\n",
       "      <td>0.618203</td>\n",
       "      <td>0.579310</td>\n",
       "      <td>0.531556</td>\n",
       "      <td>0.656025</td>\n",
       "      <td>0.597517</td>\n",
       "      <td>0.617225</td>\n",
       "    </tr>\n",
       "    <tr>\n",
       "      <th>3</th>\n",
       "      <td>0.157284</td>\n",
       "      <td>0.810977</td>\n",
       "      <td>0.214058</td>\n",
       "      <td>0.674971</td>\n",
       "      <td>0.525641</td>\n",
       "      <td>0.518930</td>\n",
       "      <td>0.578730</td>\n",
       "      <td>0.616493</td>\n",
       "      <td>0.579220</td>\n",
       "      <td>0.529108</td>\n",
       "      <td>0.651742</td>\n",
       "      <td>0.598366</td>\n",
       "      <td>0.615132</td>\n",
       "    </tr>\n",
       "    <tr>\n",
       "      <th>4</th>\n",
       "      <td>0.157284</td>\n",
       "      <td>0.813029</td>\n",
       "      <td>0.213703</td>\n",
       "      <td>0.674971</td>\n",
       "      <td>0.516968</td>\n",
       "      <td>0.518930</td>\n",
       "      <td>0.580344</td>\n",
       "      <td>0.616042</td>\n",
       "      <td>0.579667</td>\n",
       "      <td>0.529924</td>\n",
       "      <td>0.652521</td>\n",
       "      <td>0.604733</td>\n",
       "      <td>0.616328</td>\n",
       "    </tr>\n",
       "    <tr>\n",
       "      <th>...</th>\n",
       "      <td>...</td>\n",
       "      <td>...</td>\n",
       "      <td>...</td>\n",
       "      <td>...</td>\n",
       "      <td>...</td>\n",
       "      <td>...</td>\n",
       "      <td>...</td>\n",
       "      <td>...</td>\n",
       "      <td>...</td>\n",
       "      <td>...</td>\n",
       "      <td>...</td>\n",
       "      <td>...</td>\n",
       "      <td>...</td>\n",
       "    </tr>\n",
       "    <tr>\n",
       "      <th>180982</th>\n",
       "      <td>0.157622</td>\n",
       "      <td>0.813798</td>\n",
       "      <td>0.213348</td>\n",
       "      <td>0.665521</td>\n",
       "      <td>0.516968</td>\n",
       "      <td>0.521492</td>\n",
       "      <td>0.565638</td>\n",
       "      <td>0.587144</td>\n",
       "      <td>0.564109</td>\n",
       "      <td>0.529924</td>\n",
       "      <td>0.631302</td>\n",
       "      <td>0.577674</td>\n",
       "      <td>0.589414</td>\n",
       "    </tr>\n",
       "    <tr>\n",
       "      <th>180983</th>\n",
       "      <td>0.158973</td>\n",
       "      <td>0.817133</td>\n",
       "      <td>0.214058</td>\n",
       "      <td>0.668385</td>\n",
       "      <td>0.525641</td>\n",
       "      <td>0.526615</td>\n",
       "      <td>0.569225</td>\n",
       "      <td>0.590025</td>\n",
       "      <td>0.569653</td>\n",
       "      <td>0.531012</td>\n",
       "      <td>0.629356</td>\n",
       "      <td>0.577037</td>\n",
       "      <td>0.590311</td>\n",
       "    </tr>\n",
       "    <tr>\n",
       "      <th>180984</th>\n",
       "      <td>0.157960</td>\n",
       "      <td>0.815594</td>\n",
       "      <td>0.211928</td>\n",
       "      <td>0.668958</td>\n",
       "      <td>0.524133</td>\n",
       "      <td>0.523200</td>\n",
       "      <td>0.568508</td>\n",
       "      <td>0.588945</td>\n",
       "      <td>0.563394</td>\n",
       "      <td>0.532372</td>\n",
       "      <td>0.628188</td>\n",
       "      <td>0.578417</td>\n",
       "      <td>0.590012</td>\n",
       "    </tr>\n",
       "    <tr>\n",
       "      <th>180985</th>\n",
       "      <td>0.158185</td>\n",
       "      <td>0.812773</td>\n",
       "      <td>0.212283</td>\n",
       "      <td>0.667239</td>\n",
       "      <td>0.520362</td>\n",
       "      <td>0.520638</td>\n",
       "      <td>0.567073</td>\n",
       "      <td>0.587414</td>\n",
       "      <td>0.560354</td>\n",
       "      <td>0.531828</td>\n",
       "      <td>0.629161</td>\n",
       "      <td>0.580115</td>\n",
       "      <td>0.590909</td>\n",
       "    </tr>\n",
       "    <tr>\n",
       "      <th>180986</th>\n",
       "      <td>0.158410</td>\n",
       "      <td>0.813542</td>\n",
       "      <td>0.213348</td>\n",
       "      <td>0.668671</td>\n",
       "      <td>0.522624</td>\n",
       "      <td>0.523769</td>\n",
       "      <td>0.568149</td>\n",
       "      <td>0.587595</td>\n",
       "      <td>0.564288</td>\n",
       "      <td>0.529924</td>\n",
       "      <td>0.629745</td>\n",
       "      <td>0.579160</td>\n",
       "      <td>0.590311</td>\n",
       "    </tr>\n",
       "  </tbody>\n",
       "</table>\n",
       "<p>180987 rows × 13 columns</p>\n",
       "</div>"
      ],
      "text/plain": [
       "        F3 Value  FC5 Value  F7 Value  T7 Value  P7 Value  O1 Value  O2 Value  \\\n",
       "0       0.159986   0.812773  0.213348  0.665521  0.523002  0.519784  0.580703   \n",
       "1       0.159761   0.811747  0.215832  0.675258  0.516214  0.518930  0.584828   \n",
       "2       0.158635   0.810977  0.212993  0.674685  0.523379  0.519214  0.583393   \n",
       "3       0.157284   0.810977  0.214058  0.674971  0.525641  0.518930  0.578730   \n",
       "4       0.157284   0.813029  0.213703  0.674971  0.516968  0.518930  0.580344   \n",
       "...          ...        ...       ...       ...       ...       ...       ...   \n",
       "180982  0.157622   0.813798  0.213348  0.665521  0.516968  0.521492  0.565638   \n",
       "180983  0.158973   0.817133  0.214058  0.668385  0.525641  0.526615  0.569225   \n",
       "180984  0.157960   0.815594  0.211928  0.668958  0.524133  0.523200  0.568508   \n",
       "180985  0.158185   0.812773  0.212283  0.667239  0.520362  0.520638  0.567073   \n",
       "180986  0.158410   0.813542  0.213348  0.668671  0.522624  0.523769  0.568149   \n",
       "\n",
       "        P8 Value  T8 Value  F8 Value  AF4 Value  FC6 Value  F4 Value  \n",
       "0       0.617303  0.576717  0.533732   0.652132   0.599745  0.616328  \n",
       "1       0.618023  0.579399  0.530740   0.655246   0.600806  0.618421  \n",
       "2       0.618203  0.579310  0.531556   0.656025   0.597517  0.617225  \n",
       "3       0.616493  0.579220  0.529108   0.651742   0.598366  0.615132  \n",
       "4       0.616042  0.579667  0.529924   0.652521   0.604733  0.616328  \n",
       "...          ...       ...       ...        ...        ...       ...  \n",
       "180982  0.587144  0.564109  0.529924   0.631302   0.577674  0.589414  \n",
       "180983  0.590025  0.569653  0.531012   0.629356   0.577037  0.590311  \n",
       "180984  0.588945  0.563394  0.532372   0.628188   0.578417  0.590012  \n",
       "180985  0.587414  0.560354  0.531828   0.629161   0.580115  0.590909  \n",
       "180986  0.587595  0.564288  0.529924   0.629745   0.579160  0.590311  \n",
       "\n",
       "[180987 rows x 13 columns]"
      ]
     },
     "execution_count": 7,
     "metadata": {},
     "output_type": "execute_result"
    }
   ],
   "source": [
    "X = df.iloc[:,:-1]\n",
    "X"
   ]
  },
  {
   "cell_type": "code",
   "execution_count": 8,
   "id": "479d98e8",
   "metadata": {},
   "outputs": [
    {
     "data": {
      "text/plain": [
       "0         1.0\n",
       "1         1.0\n",
       "2         1.0\n",
       "3         1.0\n",
       "4         1.0\n",
       "         ... \n",
       "180982    0.0\n",
       "180983    0.0\n",
       "180984    0.0\n",
       "180985    0.0\n",
       "180986    0.0\n",
       "Name: truth, Length: 180987, dtype: float64"
      ]
     },
     "execution_count": 8,
     "metadata": {},
     "output_type": "execute_result"
    }
   ],
   "source": [
    "y = df.iloc[:,-1]\n",
    "y"
   ]
  },
  {
   "cell_type": "markdown",
   "id": "323635f0",
   "metadata": {},
   "source": [
    "## Random Forest"
   ]
  },
  {
   "cell_type": "code",
   "execution_count": 64,
   "id": "7910aabc",
   "metadata": {},
   "outputs": [
    {
     "name": "stdout",
     "output_type": "stream",
     "text": [
      "Accuracy: 90.06%\n"
     ]
    }
   ],
   "source": [
    "import numpy as np\n",
    "import pandas as pd\n",
    "from sklearn.ensemble import RandomForestClassifier\n",
    "from sklearn.model_selection import train_test_split\n",
    "from sklearn.metrics import accuracy_score\n",
    "\n",
    "\n",
    "# Split the data into training and test sets\n",
    "X_train, X_test, y_train, y_test = train_test_split(X, y, test_size=0.2, random_state=42,stratify=y)\n",
    "\n",
    "# Train a random forest classifier\n",
    "rf = RandomForestClassifier(n_estimators=150, random_state=42,max_features='sqrt',max_depth=75)\n",
    "rf.fit(X_train, y_train)\n",
    "\n",
    "# Predict on the test set and compute accuracy\n",
    "y_pred = rf.predict(X_test)\n",
    "acc = accuracy_score(y_test, y_pred)\n",
    "print(\"Accuracy: {:.2f}%\".format(acc * 100))\n"
   ]
  },
  {
   "cell_type": "code",
   "execution_count": 45,
   "id": "e67602d5",
   "metadata": {},
   "outputs": [],
   "source": [
    "param_grid = {\n",
    "    'n_estimators': [25],\n",
    "    'max_features': ['sqrt',None],\n",
    "    'max_depth': [9,10],\n",
    "    'max_leaf_nodes': [9],\n",
    "}"
   ]
  },
  {
   "cell_type": "code",
   "execution_count": 46,
   "id": "616c7cd7",
   "metadata": {},
   "outputs": [
    {
     "name": "stdout",
     "output_type": "stream",
     "text": [
      "RandomForestClassifier(max_depth=9, max_features='sqrt', max_leaf_nodes=9,\n",
      "                       n_estimators=25)\n"
     ]
    }
   ],
   "source": [
    "grid_search = GridSearchCV(RandomForestClassifier(),\n",
    "                           param_grid=param_grid)\n",
    "grid_search.fit(X_train, y_train)\n",
    "print(grid_search.best_estimator_)"
   ]
  },
  {
   "cell_type": "code",
   "execution_count": 68,
   "id": "a475bef2",
   "metadata": {},
   "outputs": [
    {
     "name": "stdout",
     "output_type": "stream",
     "text": [
      "Accuracy: 0.9006\n",
      "Precision: 0.89\n",
      "Recall: 0.94\n",
      "F1 score: 0.91\n"
     ]
    }
   ],
   "source": [
    "# Compute evaluation metrics\n",
    "accuracy = accuracy_score(y_test, y_pred)\n",
    "precision = precision_score(y_test, y_pred)\n",
    "recall = recall_score(y_test, y_pred)\n",
    "f1 = f1_score(y_test, y_pred)\n",
    "\n",
    "print(\"Accuracy: {:.4f}\".format(accuracy))\n",
    "print(\"Precision: {:.2f}\".format(precision))\n",
    "print(\"Recall: {:.2f}\".format(recall))\n",
    "print(\"F1 score: {:.2f}\".format(f1))"
   ]
  },
  {
   "cell_type": "code",
   "execution_count": 69,
   "id": "3c2797dc",
   "metadata": {},
   "outputs": [
    {
     "name": "stdout",
     "output_type": "stream",
     "text": [
      "Training set score: 1.0000\n",
      "Test set score: 0.9006\n"
     ]
    }
   ],
   "source": [
    "\n",
    "# print the scores on training and test set\n",
    "print('Training set score: {:.4f}'.format(rf.score(X_train, y_train)))\n",
    "print('Test set score: {:.4f}'.format(rf.score(X_test, y_test)))"
   ]
  },
  {
   "cell_type": "code",
   "execution_count": 70,
   "id": "ba0925ca",
   "metadata": {},
   "outputs": [
    {
     "name": "stdout",
     "output_type": "stream",
     "text": [
      "Mean accuracy: 0.4735092258545407\n",
      "Mean precision: 0.5176539922718089\n",
      "Mean recall: 0.5396554571601742\n"
     ]
    }
   ],
   "source": [
    "from sklearn.model_selection import cross_validate\n",
    "from sklearn.tree import DecisionTreeClassifier\n",
    "from sklearn.metrics import make_scorer, accuracy_score, precision_score, recall_score\n",
    "\n",
    "# Define the scoring metrics\n",
    "scoring = {'accuracy': make_scorer(accuracy_score),\n",
    "           'precision': make_scorer(precision_score),\n",
    "           'recall': make_scorer(recall_score)}\n",
    "\n",
    "# Perform cross-validation\n",
    "cv_results = cross_validate(rf, X, y, cv=5, scoring=scoring)\n",
    "\n",
    "# Print the results\n",
    "print(\"Mean accuracy:\", cv_results['test_accuracy'].mean())\n",
    "print(\"Mean precision:\", cv_results['test_precision'].mean())\n",
    "print(\"Mean recall:\", cv_results['test_recall'].mean())\n"
   ]
  },
  {
   "cell_type": "markdown",
   "id": "5c737780",
   "metadata": {},
   "source": [
    "## Decision Tree Classifier"
   ]
  },
  {
   "cell_type": "code",
   "execution_count": 13,
   "id": "15772c35",
   "metadata": {},
   "outputs": [
    {
     "name": "stdout",
     "output_type": "stream",
     "text": [
      "Accuracy: 0.783689706613625\n",
      "Precision: 0.8032877261564677\n",
      "Recall: 0.8040937139417047\n"
     ]
    }
   ],
   "source": [
    "from sklearn.tree import DecisionTreeClassifier\n",
    "\n",
    "dtc = DecisionTreeClassifier()\n",
    "\n",
    "dtc.fit(X_train, y_train)\n",
    "\n",
    "# use the trained classifier to predict the labels of the test data\n",
    "y_pred = dtc.predict(X_test)\n",
    "\n",
    "# calculate the accuracy, precision, and recall of the classifier\n",
    "acc = accuracy_score(y_test, y_pred)\n",
    "prec = precision_score(y_test, y_pred)\n",
    "rec = recall_score(y_test, y_pred)\n",
    "\n",
    "print(\"Accuracy:\", acc)\n",
    "print(\"Precision:\", prec)\n",
    "print(\"Recall:\", rec)"
   ]
  },
  {
   "cell_type": "code",
   "execution_count": 14,
   "id": "ba7236e8",
   "metadata": {},
   "outputs": [
    {
     "name": "stdout",
     "output_type": "stream",
     "text": [
      "Training set score: 1.0000\n",
      "Test set score: 0.7837\n"
     ]
    }
   ],
   "source": [
    "\n",
    "# print the scores on training and test set\n",
    "print('Training set score: {:.4f}'.format(dtc.score(X_train, y_train)))\n",
    "print('Test set score: {:.4f}'.format(dtc.score(X_test, y_test)))"
   ]
  },
  {
   "cell_type": "code",
   "execution_count": 71,
   "id": "0ae4c261",
   "metadata": {},
   "outputs": [
    {
     "name": "stdout",
     "output_type": "stream",
     "text": [
      "Mean accuracy: 0.4744153438011171\n",
      "Mean precision: 0.5235292695788871\n",
      "Mean recall: 0.498335011793824\n"
     ]
    }
   ],
   "source": [
    "# Define the scoring metrics\n",
    "scoring = {'accuracy': make_scorer(accuracy_score),\n",
    "           'precision': make_scorer(precision_score),\n",
    "           'recall': make_scorer(recall_score)}\n",
    "\n",
    "# Perform cross-validation\n",
    "cv_results = cross_validate(dtc, X, y, cv=5, scoring=scoring)\n",
    "\n",
    "# Print the results\n",
    "print(\"Mean accuracy:\", cv_results['test_accuracy'].mean())\n",
    "print(\"Mean precision:\", cv_results['test_precision'].mean())\n",
    "print(\"Mean recall:\", cv_results['test_recall'].mean())"
   ]
  },
  {
   "cell_type": "markdown",
   "id": "128e176f",
   "metadata": {},
   "source": [
    "## Gradient Boosting"
   ]
  },
  {
   "cell_type": "code",
   "execution_count": 15,
   "id": "20fe87c3",
   "metadata": {},
   "outputs": [
    {
     "name": "stdout",
     "output_type": "stream",
     "text": [
      "Accuracy: 0.639234211834908\n",
      "Precision: 0.6252094717668488\n",
      "Recall: 0.8609842973962776\n"
     ]
    }
   ],
   "source": [
    "from sklearn.ensemble import GradientBoostingClassifier\n",
    "\n",
    "# Split the data into training and test sets\n",
    "X_train, X_test, y_train, y_test = train_test_split(X, y, test_size=0.2, random_state=42,stratify=y)\n",
    "\n",
    "clf = GradientBoostingClassifier(n_estimators=100, random_state=50)\n",
    "clf.fit(X_train, y_train)\n",
    "\n",
    "y_pred = clf.predict(X_test)\n",
    "# calculate the accuracy, precision, and recall of the classifier\n",
    "acc = accuracy_score(y_test, y_pred)\n",
    "prec = precision_score(y_test, y_pred)\n",
    "rec = recall_score(y_test, y_pred)\n",
    "\n",
    "print(\"Accuracy:\", acc)\n",
    "print(\"Precision:\", prec)\n",
    "print(\"Recall:\", rec)"
   ]
  },
  {
   "cell_type": "code",
   "execution_count": 16,
   "id": "b707b305",
   "metadata": {},
   "outputs": [
    {
     "name": "stdout",
     "output_type": "stream",
     "text": [
      "Training set score: 0.6410\n",
      "Test set score: 0.6392\n"
     ]
    }
   ],
   "source": [
    "\n",
    "# print the scores on training and test set\n",
    "print('Training set score: {:.4f}'.format(clf.score(X_train, y_train)))\n",
    "print('Test set score: {:.4f}'.format(clf.score(X_test, y_test)))"
   ]
  },
  {
   "cell_type": "code",
   "execution_count": 72,
   "id": "760ea965",
   "metadata": {},
   "outputs": [
    {
     "name": "stdout",
     "output_type": "stream",
     "text": [
      "Mean accuracy: 0.49412965759840005\n",
      "Mean precision: 0.5296334601651183\n",
      "Mean recall: 0.6768587833661792\n"
     ]
    }
   ],
   "source": [
    "# Define the scoring metrics\n",
    "scoring = {'accuracy': make_scorer(accuracy_score),\n",
    "           'precision': make_scorer(precision_score),\n",
    "           'recall': make_scorer(recall_score)}\n",
    "\n",
    "# Perform cross-validation\n",
    "cv_results = cross_validate(clf, X, y, cv=5, scoring=scoring)\n",
    "\n",
    "# Print the results\n",
    "print(\"Mean accuracy:\", cv_results['test_accuracy'].mean())\n",
    "print(\"Mean precision:\", cv_results['test_precision'].mean())\n",
    "print(\"Mean recall:\", cv_results['test_recall'].mean())"
   ]
  },
  {
   "cell_type": "markdown",
   "id": "a5b0ae5f",
   "metadata": {},
   "source": [
    "## Gaussian NB"
   ]
  },
  {
   "cell_type": "code",
   "execution_count": 17,
   "id": "f58c8a12",
   "metadata": {},
   "outputs": [
    {
     "name": "stdout",
     "output_type": "stream",
     "text": [
      "Accuracy: 0.4795568815956683\n",
      "Precision: 0.5827283726557774\n",
      "Recall: 0.19329754678171876\n"
     ]
    }
   ],
   "source": [
    "from sklearn.naive_bayes import GaussianNB\n",
    "\n",
    "# Split the data into training and test sets\n",
    "X_train, X_test, y_train, y_test = train_test_split(X, y, test_size=0.2, random_state=42,stratify=y)\n",
    "\n",
    "# instantiate the model\n",
    "gnb = GaussianNB()\n",
    "\n",
    "\n",
    "# fit the model\n",
    "gnb.fit(X_train, y_train)\n",
    "\n",
    "y_pred = gnb.predict(X_test)\n",
    "# calculate the accuracy, precision, and recall of the classifier\n",
    "acc = accuracy_score(y_test, y_pred)\n",
    "prec = precision_score(y_test, y_pred)\n",
    "rec = recall_score(y_test, y_pred)\n",
    "\n",
    "print(\"Accuracy:\", acc)\n",
    "print(\"Precision:\", prec)\n",
    "print(\"Recall:\", rec)"
   ]
  },
  {
   "cell_type": "code",
   "execution_count": 18,
   "id": "5ede4651",
   "metadata": {},
   "outputs": [
    {
     "name": "stdout",
     "output_type": "stream",
     "text": [
      "Training set score: 0.4810\n",
      "Test set score: 0.4796\n"
     ]
    }
   ],
   "source": [
    "\n",
    "# print the scores on training and test set\n",
    "print('Training set score: {:.4f}'.format(gnb.score(X_train, y_train)))\n",
    "print('Test set score: {:.4f}'.format(gnb.score(X_test, y_test)))"
   ]
  },
  {
   "cell_type": "code",
   "execution_count": 73,
   "id": "1b7c2740",
   "metadata": {},
   "outputs": [
    {
     "name": "stdout",
     "output_type": "stream",
     "text": [
      "Mean accuracy: 0.44408153497553593\n",
      "Mean precision: 0.5014694217879845\n",
      "Mean recall: 0.19539933491223294\n"
     ]
    }
   ],
   "source": [
    "# Define the scoring metrics\n",
    "scoring = {'accuracy': make_scorer(accuracy_score),\n",
    "           'precision': make_scorer(precision_score),\n",
    "           'recall': make_scorer(recall_score)}\n",
    "\n",
    "# Perform cross-validation\n",
    "cv_results = cross_validate(gnb, X, y, cv=5, scoring=scoring)\n",
    "\n",
    "# Print the results\n",
    "print(\"Mean accuracy:\", cv_results['test_accuracy'].mean())\n",
    "print(\"Mean precision:\", cv_results['test_precision'].mean())\n",
    "print(\"Mean recall:\", cv_results['test_recall'].mean())"
   ]
  },
  {
   "cell_type": "markdown",
   "id": "c88ba5e5",
   "metadata": {},
   "source": [
    "## Save Model"
   ]
  },
  {
   "cell_type": "code",
   "execution_count": 74,
   "id": "de80d31b",
   "metadata": {},
   "outputs": [],
   "source": [
    "import pickle\n",
    "filename = 'finalized_EEG_model.sav'\n",
    "pickle.dump(rf, open(filename, 'wb'))"
   ]
  },
  {
   "cell_type": "code",
   "execution_count": 79,
   "id": "f1d4f316",
   "metadata": {},
   "outputs": [
    {
     "name": "stdout",
     "output_type": "stream",
     "text": [
      "0.9006022432178573\n"
     ]
    }
   ],
   "source": [
    "loaded_model = pickle.load(open(filename, 'rb'))\n",
    "Y_test = y_test\n",
    "X_test = []\n",
    "result = loaded_model.predict()\n",
    "print(result)"
   ]
  },
  {
   "cell_type": "code",
   "execution_count": 106,
   "id": "1225313e",
   "metadata": {},
   "outputs": [],
   "source": [
    "ch = pd.read_csv('tru.csv')\n",
    "ch = ch.iloc[0:1]\n"
   ]
  },
  {
   "cell_type": "code",
   "execution_count": 107,
   "id": "aabae8df",
   "metadata": {},
   "outputs": [
    {
     "data": {
      "text/html": [
       "<div>\n",
       "<style scoped>\n",
       "    .dataframe tbody tr th:only-of-type {\n",
       "        vertical-align: middle;\n",
       "    }\n",
       "\n",
       "    .dataframe tbody tr th {\n",
       "        vertical-align: top;\n",
       "    }\n",
       "\n",
       "    .dataframe thead th {\n",
       "        text-align: right;\n",
       "    }\n",
       "</style>\n",
       "<table border=\"1\" class=\"dataframe\">\n",
       "  <thead>\n",
       "    <tr style=\"text-align: right;\">\n",
       "      <th></th>\n",
       "      <th>Timestamp</th>\n",
       "      <th>F3 Value</th>\n",
       "      <th>F3 Quality</th>\n",
       "      <th>FC5 Value</th>\n",
       "      <th>5C5 Quality</th>\n",
       "      <th>F7 Value</th>\n",
       "      <th>F7 Quality</th>\n",
       "      <th>T7 Value</th>\n",
       "      <th>T7 Quality</th>\n",
       "      <th>P7 Value</th>\n",
       "      <th>...</th>\n",
       "      <th>AF4 Value</th>\n",
       "      <th>AF4 Quality</th>\n",
       "      <th>FC6 Value</th>\n",
       "      <th>FC6 Quality</th>\n",
       "      <th>F4 Value</th>\n",
       "      <th>F4 Quality</th>\n",
       "      <th>X Value</th>\n",
       "      <th>Y Value</th>\n",
       "      <th>Z Value</th>\n",
       "      <th>truth</th>\n",
       "    </tr>\n",
       "  </thead>\n",
       "  <tbody>\n",
       "    <tr>\n",
       "      <th>0</th>\n",
       "      <td>2018-08-16 18:47:16.402609</td>\n",
       "      <td>-107.0</td>\n",
       "      <td>0.0</td>\n",
       "      <td>-118.0</td>\n",
       "      <td>0.0</td>\n",
       "      <td>-122.0</td>\n",
       "      <td>0.0</td>\n",
       "      <td>-131.0</td>\n",
       "      <td>0.0</td>\n",
       "      <td>-113.0</td>\n",
       "      <td>...</td>\n",
       "      <td>-116.0</td>\n",
       "      <td>0.0</td>\n",
       "      <td>-93.0</td>\n",
       "      <td>0.0</td>\n",
       "      <td>-82.0</td>\n",
       "      <td>0.0</td>\n",
       "      <td>22.0</td>\n",
       "      <td>24.0</td>\n",
       "      <td>?</td>\n",
       "      <td>1</td>\n",
       "    </tr>\n",
       "  </tbody>\n",
       "</table>\n",
       "<p>1 rows × 31 columns</p>\n",
       "</div>"
      ],
      "text/plain": [
       "                    Timestamp  F3 Value  F3 Quality  FC5 Value  5C5 Quality  \\\n",
       "0  2018-08-16 18:47:16.402609    -107.0         0.0     -118.0          0.0   \n",
       "\n",
       "   F7 Value  F7 Quality  T7 Value  T7 Quality  P7 Value  ...  AF4 Value  \\\n",
       "0    -122.0         0.0    -131.0         0.0    -113.0  ...     -116.0   \n",
       "\n",
       "   AF4 Quality  FC6 Value  FC6 Quality  F4 Value  F4 Quality  X Value  \\\n",
       "0          0.0      -93.0          0.0     -82.0         0.0     22.0   \n",
       "\n",
       "   Y Value  Z Value  truth  \n",
       "0     24.0        ?      1  \n",
       "\n",
       "[1 rows x 31 columns]"
      ]
     },
     "execution_count": 107,
     "metadata": {},
     "output_type": "execute_result"
    }
   ],
   "source": [
    "\n",
    "ch"
   ]
  },
  {
   "cell_type": "code",
   "execution_count": 109,
   "id": "1dbdab2e",
   "metadata": {},
   "outputs": [],
   "source": [
    "ch = ch.drop([col for col in ch if 'Quality' in col],axis=1)"
   ]
  },
  {
   "cell_type": "code",
   "execution_count": 112,
   "id": "7e5c8577",
   "metadata": {},
   "outputs": [
    {
     "data": {
      "text/html": [
       "<div>\n",
       "<style scoped>\n",
       "    .dataframe tbody tr th:only-of-type {\n",
       "        vertical-align: middle;\n",
       "    }\n",
       "\n",
       "    .dataframe tbody tr th {\n",
       "        vertical-align: top;\n",
       "    }\n",
       "\n",
       "    .dataframe thead th {\n",
       "        text-align: right;\n",
       "    }\n",
       "</style>\n",
       "<table border=\"1\" class=\"dataframe\">\n",
       "  <thead>\n",
       "    <tr style=\"text-align: right;\">\n",
       "      <th></th>\n",
       "      <th>F3 Value</th>\n",
       "      <th>FC5 Value</th>\n",
       "      <th>F7 Value</th>\n",
       "      <th>T7 Value</th>\n",
       "      <th>P7 Value</th>\n",
       "      <th>O1 Value</th>\n",
       "      <th>O2 Value</th>\n",
       "      <th>P8 Value</th>\n",
       "      <th>T8 Value</th>\n",
       "      <th>F8 Value</th>\n",
       "      <th>AF4 Value</th>\n",
       "      <th>FC6 Value</th>\n",
       "      <th>F4 Value</th>\n",
       "      <th>truth</th>\n",
       "    </tr>\n",
       "  </thead>\n",
       "  <tbody>\n",
       "    <tr>\n",
       "      <th>0</th>\n",
       "      <td>-107.0</td>\n",
       "      <td>-118.0</td>\n",
       "      <td>-122.0</td>\n",
       "      <td>-131.0</td>\n",
       "      <td>-113.0</td>\n",
       "      <td>-121.0</td>\n",
       "      <td>-109.0</td>\n",
       "      <td>-90.0</td>\n",
       "      <td>-127.0</td>\n",
       "      <td>-110.0</td>\n",
       "      <td>-116.0</td>\n",
       "      <td>-93.0</td>\n",
       "      <td>-82.0</td>\n",
       "      <td>1</td>\n",
       "    </tr>\n",
       "  </tbody>\n",
       "</table>\n",
       "</div>"
      ],
      "text/plain": [
       "   F3 Value  FC5 Value  F7 Value  T7 Value  P7 Value  O1 Value  O2 Value  \\\n",
       "0    -107.0     -118.0    -122.0    -131.0    -113.0    -121.0    -109.0   \n",
       "\n",
       "   P8 Value  T8 Value  F8 Value  AF4 Value  FC6 Value  F4 Value  truth  \n",
       "0     -90.0    -127.0    -110.0     -116.0      -93.0     -82.0      1  "
      ]
     },
     "execution_count": 112,
     "metadata": {},
     "output_type": "execute_result"
    }
   ],
   "source": [
    "ch = ch.drop(['Timestamp', 'X Value', 'Y Value', 'Z Value'],axis=1)\n",
    "ch"
   ]
  },
  {
   "cell_type": "code",
   "execution_count": 131,
   "id": "cfe9529c",
   "metadata": {},
   "outputs": [
    {
     "data": {
      "text/html": [
       "<div>\n",
       "<style scoped>\n",
       "    .dataframe tbody tr th:only-of-type {\n",
       "        vertical-align: middle;\n",
       "    }\n",
       "\n",
       "    .dataframe tbody tr th {\n",
       "        vertical-align: top;\n",
       "    }\n",
       "\n",
       "    .dataframe thead th {\n",
       "        text-align: right;\n",
       "    }\n",
       "</style>\n",
       "<table border=\"1\" class=\"dataframe\">\n",
       "  <thead>\n",
       "    <tr style=\"text-align: right;\">\n",
       "      <th></th>\n",
       "      <th>F3 Value</th>\n",
       "      <th>FC5 Value</th>\n",
       "      <th>F7 Value</th>\n",
       "      <th>T7 Value</th>\n",
       "      <th>P7 Value</th>\n",
       "      <th>O1 Value</th>\n",
       "      <th>O2 Value</th>\n",
       "      <th>P8 Value</th>\n",
       "      <th>T8 Value</th>\n",
       "      <th>F8 Value</th>\n",
       "      <th>AF4 Value</th>\n",
       "      <th>FC6 Value</th>\n",
       "      <th>F4 Value</th>\n",
       "    </tr>\n",
       "  </thead>\n",
       "  <tbody>\n",
       "    <tr>\n",
       "      <th>0</th>\n",
       "      <td>-107.0</td>\n",
       "      <td>-118.0</td>\n",
       "      <td>-122.0</td>\n",
       "      <td>-131.0</td>\n",
       "      <td>-113.0</td>\n",
       "      <td>-121.0</td>\n",
       "      <td>-109.0</td>\n",
       "      <td>-90.0</td>\n",
       "      <td>-127.0</td>\n",
       "      <td>-110.0</td>\n",
       "      <td>-116.0</td>\n",
       "      <td>-93.0</td>\n",
       "      <td>-82.0</td>\n",
       "    </tr>\n",
       "  </tbody>\n",
       "</table>\n",
       "</div>"
      ],
      "text/plain": [
       "   F3 Value  FC5 Value  F7 Value  T7 Value  P7 Value  O1 Value  O2 Value  \\\n",
       "0    -107.0     -118.0    -122.0    -131.0    -113.0    -121.0    -109.0   \n",
       "\n",
       "   P8 Value  T8 Value  F8 Value  AF4 Value  FC6 Value  F4 Value  \n",
       "0     -90.0    -127.0    -110.0     -116.0      -93.0     -82.0  "
      ]
     },
     "execution_count": 131,
     "metadata": {},
     "output_type": "execute_result"
    }
   ],
   "source": [
    "X = ch.iloc[:,:-1]\n",
    "X"
   ]
  },
  {
   "cell_type": "code",
   "execution_count": 132,
   "id": "9136370d",
   "metadata": {},
   "outputs": [
    {
     "data": {
      "text/plain": [
       "0    1\n",
       "Name: truth, dtype: int64"
      ]
     },
     "execution_count": 132,
     "metadata": {},
     "output_type": "execute_result"
    }
   ],
   "source": [
    "y = ch.iloc[:,-1]\n",
    "y"
   ]
  },
  {
   "cell_type": "code",
   "execution_count": 134,
   "id": "7ba3e14f",
   "metadata": {},
   "outputs": [
    {
     "data": {
      "text/plain": [
       "array([[0., 0., 0., 0., 0., 0., 0., 0., 0., 0., 0., 0., 0.]])"
      ]
     },
     "execution_count": 134,
     "metadata": {},
     "output_type": "execute_result"
    }
   ],
   "source": [
    "min_max_scaler = preprocessing.MinMaxScaler()\n",
    "c = min_max_scaler.fit_transform(X)\n",
    "c"
   ]
  },
  {
   "cell_type": "code",
   "execution_count": 133,
   "id": "b2c1a85e",
   "metadata": {},
   "outputs": [
    {
     "name": "stdout",
     "output_type": "stream",
     "text": [
      "[0.]\n"
     ]
    }
   ],
   "source": [
    "result = loaded_model.predict(X)\n",
    "print(result)"
   ]
  },
  {
   "cell_type": "code",
   "execution_count": 128,
   "id": "fa908a27",
   "metadata": {},
   "outputs": [
    {
     "name": "stdout",
     "output_type": "stream",
     "text": [
      "[[0. 0. 0. 0. 0. 0. 0. 0. 0. 0. 0. 0. 0. 0.]]\n"
     ]
    }
   ],
   "source": []
  },
  {
   "cell_type": "code",
   "execution_count": null,
   "id": "63c08ab4",
   "metadata": {},
   "outputs": [],
   "source": []
  }
 ],
 "metadata": {
  "kernelspec": {
   "display_name": "Python 3 (ipykernel)",
   "language": "python",
   "name": "python3"
  },
  "language_info": {
   "codemirror_mode": {
    "name": "ipython",
    "version": 3
   },
   "file_extension": ".py",
   "mimetype": "text/x-python",
   "name": "python",
   "nbconvert_exporter": "python",
   "pygments_lexer": "ipython3",
   "version": "3.9.13"
  }
 },
 "nbformat": 4,
 "nbformat_minor": 5
}
